{
 "cells": [
  {
   "cell_type": "markdown",
   "id": "4b82d2f8-3a04-43c9-9359-d70bb0de7952",
   "metadata": {},
   "source": [
    "# Data Cleaning: Part 2"
   ]
  },
  {
   "cell_type": "markdown",
   "id": "b2881e67-1ba6-4e26-80f2-e7dc197c5ce8",
   "metadata": {},
   "source": [
    "## Cleaning Not-Null Values"
   ]
  },
  {
   "cell_type": "code",
   "execution_count": 65,
   "id": "2a2e748f-f68f-41f6-b1c1-d4d1a1020e22",
   "metadata": {},
   "outputs": [],
   "source": [
    "import pandas as pd\n",
    "import numpy as np"
   ]
  },
  {
   "cell_type": "code",
   "execution_count": 66,
   "id": "8e7edf10-e1c4-4d7f-8e14-8f718be9b97f",
   "metadata": {},
   "outputs": [],
   "source": [
    "dataFrame = pd.DataFrame({\n",
    "    'Gender': ['Male', 'Female', 'Female', 'Female', 'ABC'],\n",
    "    'Age': [41, 35, 24, 52, 380]},\n",
    "index= ['John', 'Mary', 'Susan', 'Hannah', 'Robert'])"
   ]
  },
  {
   "cell_type": "code",
   "execution_count": 67,
   "id": "5fb9ed12-ff08-4d74-9b41-2184cef53122",
   "metadata": {},
   "outputs": [
    {
     "data": {
      "text/html": [
       "<div>\n",
       "<style scoped>\n",
       "    .dataframe tbody tr th:only-of-type {\n",
       "        vertical-align: middle;\n",
       "    }\n",
       "\n",
       "    .dataframe tbody tr th {\n",
       "        vertical-align: top;\n",
       "    }\n",
       "\n",
       "    .dataframe thead th {\n",
       "        text-align: right;\n",
       "    }\n",
       "</style>\n",
       "<table border=\"1\" class=\"dataframe\">\n",
       "  <thead>\n",
       "    <tr style=\"text-align: right;\">\n",
       "      <th></th>\n",
       "      <th>Gender</th>\n",
       "      <th>Age</th>\n",
       "    </tr>\n",
       "  </thead>\n",
       "  <tbody>\n",
       "    <tr>\n",
       "      <th>John</th>\n",
       "      <td>Male</td>\n",
       "      <td>41</td>\n",
       "    </tr>\n",
       "    <tr>\n",
       "      <th>Mary</th>\n",
       "      <td>Female</td>\n",
       "      <td>35</td>\n",
       "    </tr>\n",
       "    <tr>\n",
       "      <th>Susan</th>\n",
       "      <td>Female</td>\n",
       "      <td>24</td>\n",
       "    </tr>\n",
       "    <tr>\n",
       "      <th>Hannah</th>\n",
       "      <td>Female</td>\n",
       "      <td>52</td>\n",
       "    </tr>\n",
       "    <tr>\n",
       "      <th>Robert</th>\n",
       "      <td>ABC</td>\n",
       "      <td>380</td>\n",
       "    </tr>\n",
       "  </tbody>\n",
       "</table>\n",
       "</div>"
      ],
      "text/plain": [
       "        Gender  Age\n",
       "John      Male   41\n",
       "Mary    Female   35\n",
       "Susan   Female   24\n",
       "Hannah  Female   52\n",
       "Robert     ABC  380"
      ]
     },
     "execution_count": 67,
     "metadata": {},
     "output_type": "execute_result"
    }
   ],
   "source": [
    "dataFrame"
   ]
  },
  {
   "cell_type": "markdown",
   "id": "684bbc20-f774-41d1-a7fa-7124249094af",
   "metadata": {},
   "source": [
    "### Identify The Unique Values"
   ]
  },
  {
   "cell_type": "code",
   "execution_count": 68,
   "id": "5c88b99c-34a8-4fe3-8517-711985940b01",
   "metadata": {},
   "outputs": [
    {
     "data": {
      "text/plain": [
       "array(['Male', 'Female', 'ABC'], dtype=object)"
      ]
     },
     "execution_count": 68,
     "metadata": {},
     "output_type": "execute_result"
    }
   ],
   "source": [
    "dataFrame['Gender'].unique() # Print the unique values of 'Gender' column"
   ]
  },
  {
   "cell_type": "code",
   "execution_count": 69,
   "id": "0d929d29-9541-47bb-b715-61cc4b980652",
   "metadata": {},
   "outputs": [
    {
     "data": {
      "text/plain": [
       "Gender\n",
       "Female    3\n",
       "Male      1\n",
       "ABC       1\n",
       "Name: count, dtype: int64"
      ]
     },
     "execution_count": 69,
     "metadata": {},
     "output_type": "execute_result"
    }
   ],
   "source": [
    "dataFrame['Gender'].value_counts() # Print the counts of unique values"
   ]
  },
  {
   "cell_type": "code",
   "execution_count": 70,
   "id": "564fb3b9-0ca0-4221-a847-8765cdca5be7",
   "metadata": {},
   "outputs": [],
   "source": [
    "dataFrame['Gender'] = dataFrame['Gender'].replace('ABC', 'Male')\n",
    " # Replace the mistaken data"
   ]
  },
  {
   "cell_type": "code",
   "execution_count": 71,
   "id": "64744536-121f-4870-b01d-201303c03d2f",
   "metadata": {},
   "outputs": [
    {
     "data": {
      "text/html": [
       "<div>\n",
       "<style scoped>\n",
       "    .dataframe tbody tr th:only-of-type {\n",
       "        vertical-align: middle;\n",
       "    }\n",
       "\n",
       "    .dataframe tbody tr th {\n",
       "        vertical-align: top;\n",
       "    }\n",
       "\n",
       "    .dataframe thead th {\n",
       "        text-align: right;\n",
       "    }\n",
       "</style>\n",
       "<table border=\"1\" class=\"dataframe\">\n",
       "  <thead>\n",
       "    <tr style=\"text-align: right;\">\n",
       "      <th></th>\n",
       "      <th>Gender</th>\n",
       "      <th>Age</th>\n",
       "    </tr>\n",
       "  </thead>\n",
       "  <tbody>\n",
       "    <tr>\n",
       "      <th>Robert</th>\n",
       "      <td>Male</td>\n",
       "      <td>380</td>\n",
       "    </tr>\n",
       "  </tbody>\n",
       "</table>\n",
       "</div>"
      ],
      "text/plain": [
       "       Gender  Age\n",
       "Robert   Male  380"
      ]
     },
     "execution_count": 71,
     "metadata": {},
     "output_type": "execute_result"
    }
   ],
   "source": [
    "dataFrame[dataFrame['Age'] > 60] # Let's say this company doesn't have any employees older than 60.\n",
    "# Filter the employees for this condition"
   ]
  },
  {
   "cell_type": "code",
   "execution_count": 74,
   "id": "26e2c0b2-29e5-492f-952b-eae142ccdc4b",
   "metadata": {},
   "outputs": [],
   "source": [
    "# Let's change this data\n",
    "dataFrame.loc[dataFrame['Age'] > 60, 'Age'] = 59\n",
    "# Replace the mistaken data with 59"
   ]
  },
  {
   "cell_type": "code",
   "execution_count": 75,
   "id": "df8d42fc-486d-448b-98b9-b452678aa38e",
   "metadata": {},
   "outputs": [
    {
     "data": {
      "text/html": [
       "<div>\n",
       "<style scoped>\n",
       "    .dataframe tbody tr th:only-of-type {\n",
       "        vertical-align: middle;\n",
       "    }\n",
       "\n",
       "    .dataframe tbody tr th {\n",
       "        vertical-align: top;\n",
       "    }\n",
       "\n",
       "    .dataframe thead th {\n",
       "        text-align: right;\n",
       "    }\n",
       "</style>\n",
       "<table border=\"1\" class=\"dataframe\">\n",
       "  <thead>\n",
       "    <tr style=\"text-align: right;\">\n",
       "      <th></th>\n",
       "      <th>Gender</th>\n",
       "      <th>Age</th>\n",
       "    </tr>\n",
       "  </thead>\n",
       "  <tbody>\n",
       "    <tr>\n",
       "      <th>John</th>\n",
       "      <td>Male</td>\n",
       "      <td>41</td>\n",
       "    </tr>\n",
       "    <tr>\n",
       "      <th>Mary</th>\n",
       "      <td>Female</td>\n",
       "      <td>35</td>\n",
       "    </tr>\n",
       "    <tr>\n",
       "      <th>Susan</th>\n",
       "      <td>Female</td>\n",
       "      <td>24</td>\n",
       "    </tr>\n",
       "    <tr>\n",
       "      <th>Hannah</th>\n",
       "      <td>Female</td>\n",
       "      <td>52</td>\n",
       "    </tr>\n",
       "    <tr>\n",
       "      <th>Robert</th>\n",
       "      <td>Male</td>\n",
       "      <td>59</td>\n",
       "    </tr>\n",
       "  </tbody>\n",
       "</table>\n",
       "</div>"
      ],
      "text/plain": [
       "        Gender  Age\n",
       "John      Male   41\n",
       "Mary    Female   35\n",
       "Susan   Female   24\n",
       "Hannah  Female   52\n",
       "Robert    Male   59"
      ]
     },
     "execution_count": 75,
     "metadata": {},
     "output_type": "execute_result"
    }
   ],
   "source": [
    "dataFrame"
   ]
  },
  {
   "cell_type": "markdown",
   "id": "0f48f8b3-a0c8-4d57-b0cd-56e7361c4791",
   "metadata": {},
   "source": [
    "## Duplicates"
   ]
  },
  {
   "cell_type": "markdown",
   "id": "c5313c3d-a78d-49fc-9c83-ad8ac24c892d",
   "metadata": {},
   "source": [
    "### Duplicates in Series"
   ]
  },
  {
   "cell_type": "code",
   "execution_count": 85,
   "id": "1e0ab3ca-8757-4fbb-8dd0-29207e68e6ee",
   "metadata": {},
   "outputs": [],
   "source": [
    "directors = pd.Series([\n",
    "    'France',\n",
    "    'United Kingdom',\n",
    "    'United Kingdom',\n",
    "    'Italy',\n",
    "    'Germany',\n",
    "    'Germany',\n",
    "    'Germany',\n",
    "], index=[\n",
    "    'Celine Sciamma',\n",
    "    'Ken Loach',\n",
    "    'Edgar Wright',\n",
    "    'Luca Guadagnino',\n",
    "    'Rainer Werner Fassbinder',\n",
    "    'Werner Herzog',\n",
    "    'Wim Wenders'\n",
    "])"
   ]
  },
  {
   "cell_type": "code",
   "execution_count": 86,
   "id": "1ed47fd5-b208-4b3f-8076-afb810abf19f",
   "metadata": {},
   "outputs": [
    {
     "data": {
      "text/plain": [
       "Celine Sciamma                      France\n",
       "Ken Loach                   United Kingdom\n",
       "Edgar Wright                United Kingdom\n",
       "Luca Guadagnino                      Italy\n",
       "Rainer Werner Fassbinder           Germany\n",
       "Werner Herzog                      Germany\n",
       "Wim Wenders                        Germany\n",
       "dtype: object"
      ]
     },
     "execution_count": 86,
     "metadata": {},
     "output_type": "execute_result"
    }
   ],
   "source": [
    "directors"
   ]
  },
  {
   "cell_type": "code",
   "execution_count": 88,
   "id": "f2452dc5-3dbd-4308-b268-076453344803",
   "metadata": {},
   "outputs": [
    {
     "data": {
      "text/plain": [
       "Celine Sciamma              False\n",
       "Ken Loach                   False\n",
       "Edgar Wright                 True\n",
       "Luca Guadagnino             False\n",
       "Rainer Werner Fassbinder    False\n",
       "Werner Herzog                True\n",
       "Wim Wenders                  True\n",
       "dtype: bool"
      ]
     },
     "execution_count": 88,
     "metadata": {},
     "output_type": "execute_result"
    }
   ],
   "source": [
    "directors.duplicated()\n",
    "# Print the duplicated values (those also printed earlier)\n",
    "# Note: Even if it is duplicated in general, the first value is always non-duplicated."
   ]
  },
  {
   "cell_type": "code",
   "execution_count": 90,
   "id": "fd3ff814-af47-4d91-9414-287837cdeb02",
   "metadata": {},
   "outputs": [
    {
     "data": {
      "text/plain": [
       "Celine Sciamma              False\n",
       "Ken Loach                    True\n",
       "Edgar Wright                False\n",
       "Luca Guadagnino             False\n",
       "Rainer Werner Fassbinder     True\n",
       "Werner Herzog                True\n",
       "Wim Wenders                 False\n",
       "dtype: bool"
      ]
     },
     "execution_count": 90,
     "metadata": {},
     "output_type": "execute_result"
    }
   ],
   "source": [
    "directors.duplicated(keep = 'last')\n",
    "# Change this behaviour by reading the data from last row.\n",
    "# The last value is no longer copied and the one in the top row is copied instead. ."
   ]
  },
  {
   "cell_type": "code",
   "execution_count": 92,
   "id": "819a2022-6f29-4fb8-8891-d29608327013",
   "metadata": {},
   "outputs": [
    {
     "data": {
      "text/plain": [
       "Celine Sciamma              False\n",
       "Ken Loach                    True\n",
       "Edgar Wright                 True\n",
       "Luca Guadagnino             False\n",
       "Rainer Werner Fassbinder     True\n",
       "Werner Herzog                True\n",
       "Wim Wenders                  True\n",
       "dtype: bool"
      ]
     },
     "execution_count": 92,
     "metadata": {},
     "output_type": "execute_result"
    }
   ],
   "source": [
    "directors.duplicated(keep = False)\n",
    "# Remove this behaviour completely and set all the duplicated as 'True'"
   ]
  },
  {
   "cell_type": "markdown",
   "id": "70588020-692e-4125-9be0-3f674f46db1c",
   "metadata": {},
   "source": [
    "### Drop The Duplicates"
   ]
  },
  {
   "cell_type": "code",
   "execution_count": 98,
   "id": "7fedf22e-2ab3-4f42-a16e-2d5d84b4c701",
   "metadata": {},
   "outputs": [
    {
     "data": {
      "text/plain": [
       "Celine Sciamma                      France\n",
       "Ken Loach                   United Kingdom\n",
       "Luca Guadagnino                      Italy\n",
       "Rainer Werner Fassbinder           Germany\n",
       "dtype: object"
      ]
     },
     "execution_count": 98,
     "metadata": {},
     "output_type": "execute_result"
    }
   ],
   "source": [
    "directors.drop_duplicates()\n",
    "# Duplicated values are dropped but the first ones are kept"
   ]
  },
  {
   "cell_type": "code",
   "execution_count": 99,
   "id": "fd0fc007-f06b-48be-87ee-1711ea70ca6e",
   "metadata": {},
   "outputs": [
    {
     "data": {
      "text/plain": [
       "Celine Sciamma             France\n",
       "Edgar Wright       United Kingdom\n",
       "Luca Guadagnino             Italy\n",
       "Wim Wenders               Germany\n",
       "dtype: object"
      ]
     },
     "execution_count": 99,
     "metadata": {},
     "output_type": "execute_result"
    }
   ],
   "source": [
    "directors.drop_duplicates(keep = 'last')\n",
    "# Include the last duplicated value too"
   ]
  },
  {
   "cell_type": "code",
   "execution_count": 100,
   "id": "329de3fb-9645-40f4-b5d7-7b2a2cb1e8fb",
   "metadata": {},
   "outputs": [
    {
     "data": {
      "text/plain": [
       "Celine Sciamma     France\n",
       "Luca Guadagnino     Italy\n",
       "dtype: object"
      ]
     },
     "execution_count": 100,
     "metadata": {},
     "output_type": "execute_result"
    }
   ],
   "source": [
    "directors.drop_duplicates(keep = False)\n",
    "# No duplicated value is stored this time"
   ]
  },
  {
   "cell_type": "markdown",
   "id": "be43486f-d641-4bd0-8d0f-1fa70f69de6f",
   "metadata": {},
   "source": [
    "### Duplicates in DataFrame"
   ]
  },
  {
   "cell_type": "code",
   "execution_count": 108,
   "id": "56c5e2cf-2f7e-4abf-9bdc-31ad77020a92",
   "metadata": {},
   "outputs": [],
   "source": [
    "actors = pd.DataFrame ({\n",
    "    'Name': [\n",
    "        'Tom Cruise',\n",
    "        'Meg Ryan',\n",
    "        'Nicolas Cage',\n",
    "        'Jack Nicholson',\n",
    "        'Jack Nicholson',\n",
    "    ],\n",
    "    'Favorite Genre': [\n",
    "        'Action',\n",
    "        'Comedy',\n",
    "        'Drama',\n",
    "        'Comedy',\n",
    "        'Drama'\n",
    "    ]\n",
    "})"
   ]
  },
  {
   "cell_type": "code",
   "execution_count": 109,
   "id": "b89dbdd9-9c5c-44de-b04f-e2d6d6bf6432",
   "metadata": {},
   "outputs": [
    {
     "data": {
      "text/html": [
       "<div>\n",
       "<style scoped>\n",
       "    .dataframe tbody tr th:only-of-type {\n",
       "        vertical-align: middle;\n",
       "    }\n",
       "\n",
       "    .dataframe tbody tr th {\n",
       "        vertical-align: top;\n",
       "    }\n",
       "\n",
       "    .dataframe thead th {\n",
       "        text-align: right;\n",
       "    }\n",
       "</style>\n",
       "<table border=\"1\" class=\"dataframe\">\n",
       "  <thead>\n",
       "    <tr style=\"text-align: right;\">\n",
       "      <th></th>\n",
       "      <th>Name</th>\n",
       "      <th>Favorite Genre</th>\n",
       "    </tr>\n",
       "  </thead>\n",
       "  <tbody>\n",
       "    <tr>\n",
       "      <th>0</th>\n",
       "      <td>Tom Cruise</td>\n",
       "      <td>Action</td>\n",
       "    </tr>\n",
       "    <tr>\n",
       "      <th>1</th>\n",
       "      <td>Meg Ryan</td>\n",
       "      <td>Comedy</td>\n",
       "    </tr>\n",
       "    <tr>\n",
       "      <th>2</th>\n",
       "      <td>Nicolas Cage</td>\n",
       "      <td>Drama</td>\n",
       "    </tr>\n",
       "    <tr>\n",
       "      <th>3</th>\n",
       "      <td>Jack Nicholson</td>\n",
       "      <td>Comedy</td>\n",
       "    </tr>\n",
       "    <tr>\n",
       "      <th>4</th>\n",
       "      <td>Jack Nicholson</td>\n",
       "      <td>Drama</td>\n",
       "    </tr>\n",
       "  </tbody>\n",
       "</table>\n",
       "</div>"
      ],
      "text/plain": [
       "             Name Favorite Genre\n",
       "0      Tom Cruise         Action\n",
       "1        Meg Ryan         Comedy\n",
       "2    Nicolas Cage          Drama\n",
       "3  Jack Nicholson         Comedy\n",
       "4  Jack Nicholson          Drama"
      ]
     },
     "execution_count": 109,
     "metadata": {},
     "output_type": "execute_result"
    }
   ],
   "source": [
    "actors"
   ]
  },
  {
   "cell_type": "code",
   "execution_count": 110,
   "id": "77991329-bd0d-4af8-bb03-1a1d01828ebb",
   "metadata": {},
   "outputs": [
    {
     "data": {
      "text/plain": [
       "0    False\n",
       "1    False\n",
       "2    False\n",
       "3    False\n",
       "4    False\n",
       "dtype: bool"
      ]
     },
     "execution_count": 110,
     "metadata": {},
     "output_type": "execute_result"
    }
   ],
   "source": [
    "actors.duplicated()"
   ]
  },
  {
   "cell_type": "code",
   "execution_count": 112,
   "id": "c304e050-b687-4d02-9699-9b779a84bfa6",
   "metadata": {},
   "outputs": [
    {
     "data": {
      "text/plain": [
       "0    False\n",
       "1    False\n",
       "2    False\n",
       "3    False\n",
       "4     True\n",
       "dtype: bool"
      ]
     },
     "execution_count": 112,
     "metadata": {},
     "output_type": "execute_result"
    }
   ],
   "source": [
    "actors.duplicated(subset=['Name'])\n",
    "# See if any actor name is duplicated with a subset"
   ]
  },
  {
   "cell_type": "code",
   "execution_count": 114,
   "id": "655d0095-56b7-43f9-b8aa-a74712c8a4df",
   "metadata": {},
   "outputs": [
    {
     "data": {
      "text/html": [
       "<div>\n",
       "<style scoped>\n",
       "    .dataframe tbody tr th:only-of-type {\n",
       "        vertical-align: middle;\n",
       "    }\n",
       "\n",
       "    .dataframe tbody tr th {\n",
       "        vertical-align: top;\n",
       "    }\n",
       "\n",
       "    .dataframe thead th {\n",
       "        text-align: right;\n",
       "    }\n",
       "</style>\n",
       "<table border=\"1\" class=\"dataframe\">\n",
       "  <thead>\n",
       "    <tr style=\"text-align: right;\">\n",
       "      <th></th>\n",
       "      <th>Name</th>\n",
       "      <th>Favorite Genre</th>\n",
       "    </tr>\n",
       "  </thead>\n",
       "  <tbody>\n",
       "    <tr>\n",
       "      <th>0</th>\n",
       "      <td>Tom Cruise</td>\n",
       "      <td>Action</td>\n",
       "    </tr>\n",
       "    <tr>\n",
       "      <th>1</th>\n",
       "      <td>Meg Ryan</td>\n",
       "      <td>Comedy</td>\n",
       "    </tr>\n",
       "    <tr>\n",
       "      <th>2</th>\n",
       "      <td>Nicolas Cage</td>\n",
       "      <td>Drama</td>\n",
       "    </tr>\n",
       "    <tr>\n",
       "      <th>3</th>\n",
       "      <td>Jack Nicholson</td>\n",
       "      <td>Comedy</td>\n",
       "    </tr>\n",
       "  </tbody>\n",
       "</table>\n",
       "</div>"
      ],
      "text/plain": [
       "             Name Favorite Genre\n",
       "0      Tom Cruise         Action\n",
       "1        Meg Ryan         Comedy\n",
       "2    Nicolas Cage          Drama\n",
       "3  Jack Nicholson         Comedy"
      ]
     },
     "execution_count": 114,
     "metadata": {},
     "output_type": "execute_result"
    }
   ],
   "source": [
    "actors.drop_duplicates(subset=['Name'])\n",
    "# Drop these duplicated values"
   ]
  },
  {
   "cell_type": "markdown",
   "id": "908fde11-34f0-44ef-90a3-77389f0910b7",
   "metadata": {},
   "source": [
    "## Text Handling"
   ]
  },
  {
   "cell_type": "code",
   "execution_count": 115,
   "id": "6d9d27ed-c0ab-4f63-aea3-8a17a6c2fb3d",
   "metadata": {},
   "outputs": [],
   "source": [
    "df = pd.DataFrame({\n",
    "    'Data': [\n",
    "        '1987_M_US _1',\n",
    "        '1990?_M_UK_1',\n",
    "        '1992_F_US_2',\n",
    "        '1970?_M_   IT_1',\n",
    "        '1985_F_I  T_2'\n",
    "]})"
   ]
  },
  {
   "cell_type": "code",
   "execution_count": 116,
   "id": "da7d6218-f45c-4199-ac0a-4df86e1d6e77",
   "metadata": {},
   "outputs": [
    {
     "data": {
      "text/html": [
       "<div>\n",
       "<style scoped>\n",
       "    .dataframe tbody tr th:only-of-type {\n",
       "        vertical-align: middle;\n",
       "    }\n",
       "\n",
       "    .dataframe tbody tr th {\n",
       "        vertical-align: top;\n",
       "    }\n",
       "\n",
       "    .dataframe thead th {\n",
       "        text-align: right;\n",
       "    }\n",
       "</style>\n",
       "<table border=\"1\" class=\"dataframe\">\n",
       "  <thead>\n",
       "    <tr style=\"text-align: right;\">\n",
       "      <th></th>\n",
       "      <th>Data</th>\n",
       "    </tr>\n",
       "  </thead>\n",
       "  <tbody>\n",
       "    <tr>\n",
       "      <th>0</th>\n",
       "      <td>1987_M_US _1</td>\n",
       "    </tr>\n",
       "    <tr>\n",
       "      <th>1</th>\n",
       "      <td>1990?_M_UK_1</td>\n",
       "    </tr>\n",
       "    <tr>\n",
       "      <th>2</th>\n",
       "      <td>1992_F_US_2</td>\n",
       "    </tr>\n",
       "    <tr>\n",
       "      <th>3</th>\n",
       "      <td>1970?_M_   IT_1</td>\n",
       "    </tr>\n",
       "    <tr>\n",
       "      <th>4</th>\n",
       "      <td>1985_F_I  T_2</td>\n",
       "    </tr>\n",
       "  </tbody>\n",
       "</table>\n",
       "</div>"
      ],
      "text/plain": [
       "              Data\n",
       "0     1987_M_US _1\n",
       "1     1990?_M_UK_1\n",
       "2      1992_F_US_2\n",
       "3  1970?_M_   IT_1\n",
       "4    1985_F_I  T_2"
      ]
     },
     "execution_count": 116,
     "metadata": {},
     "output_type": "execute_result"
    }
   ],
   "source": [
    "df"
   ]
  },
  {
   "cell_type": "code",
   "execution_count": 118,
   "id": "60209dbb-ca6c-4e25-ad28-42eae05d7cee",
   "metadata": {},
   "outputs": [
    {
     "data": {
      "text/plain": [
       "0       [1987, M, US , 1]\n",
       "1       [1990?, M, UK, 1]\n",
       "2        [1992, F, US, 2]\n",
       "3    [1970?, M,    IT, 1]\n",
       "4      [1985, F, I  T, 2]\n",
       "Name: Data, dtype: object"
      ]
     },
     "execution_count": 118,
     "metadata": {},
     "output_type": "execute_result"
    }
   ],
   "source": [
    "df['Data'].str.split('_')\n",
    "# Split the compact data with _ inside of it"
   ]
  },
  {
   "cell_type": "code",
   "execution_count": 120,
   "id": "3bfa0d9e-8b32-410a-bb47-fe053e9d2785",
   "metadata": {},
   "outputs": [
    {
     "data": {
      "text/html": [
       "<div>\n",
       "<style scoped>\n",
       "    .dataframe tbody tr th:only-of-type {\n",
       "        vertical-align: middle;\n",
       "    }\n",
       "\n",
       "    .dataframe tbody tr th {\n",
       "        vertical-align: top;\n",
       "    }\n",
       "\n",
       "    .dataframe thead th {\n",
       "        text-align: right;\n",
       "    }\n",
       "</style>\n",
       "<table border=\"1\" class=\"dataframe\">\n",
       "  <thead>\n",
       "    <tr style=\"text-align: right;\">\n",
       "      <th></th>\n",
       "      <th>0</th>\n",
       "      <th>1</th>\n",
       "      <th>2</th>\n",
       "      <th>3</th>\n",
       "    </tr>\n",
       "  </thead>\n",
       "  <tbody>\n",
       "    <tr>\n",
       "      <th>0</th>\n",
       "      <td>1987</td>\n",
       "      <td>M</td>\n",
       "      <td>US</td>\n",
       "      <td>1</td>\n",
       "    </tr>\n",
       "    <tr>\n",
       "      <th>1</th>\n",
       "      <td>1990?</td>\n",
       "      <td>M</td>\n",
       "      <td>UK</td>\n",
       "      <td>1</td>\n",
       "    </tr>\n",
       "    <tr>\n",
       "      <th>2</th>\n",
       "      <td>1992</td>\n",
       "      <td>F</td>\n",
       "      <td>US</td>\n",
       "      <td>2</td>\n",
       "    </tr>\n",
       "    <tr>\n",
       "      <th>3</th>\n",
       "      <td>1970?</td>\n",
       "      <td>M</td>\n",
       "      <td>IT</td>\n",
       "      <td>1</td>\n",
       "    </tr>\n",
       "    <tr>\n",
       "      <th>4</th>\n",
       "      <td>1985</td>\n",
       "      <td>F</td>\n",
       "      <td>I  T</td>\n",
       "      <td>2</td>\n",
       "    </tr>\n",
       "  </tbody>\n",
       "</table>\n",
       "</div>"
      ],
      "text/plain": [
       "       0  1      2  3\n",
       "0   1987  M    US   1\n",
       "1  1990?  M     UK  1\n",
       "2   1992  F     US  2\n",
       "3  1970?  M     IT  1\n",
       "4   1985  F   I  T  2"
      ]
     },
     "execution_count": 120,
     "metadata": {},
     "output_type": "execute_result"
    }
   ],
   "source": [
    "df['Data'].str.split('_', expand=True)\n",
    "# Expand the result to a proper data frame"
   ]
  },
  {
   "cell_type": "code",
   "execution_count": 121,
   "id": "9561e8aa-abc1-47c1-a476-4eaf27cb8aa4",
   "metadata": {},
   "outputs": [],
   "source": [
    "df = df['Data'].str.split('_', expand=True)\n",
    "# Set this form as the default one"
   ]
  },
  {
   "cell_type": "code",
   "execution_count": 124,
   "id": "82f454cf-4b15-4819-8030-73c13f598acb",
   "metadata": {},
   "outputs": [],
   "source": [
    "df.columns = ['Year', 'Gender', 'Country', 'Children Number']"
   ]
  },
  {
   "cell_type": "code",
   "execution_count": 125,
   "id": "200f9b01-3428-4e8e-939a-621b8d8e3c5d",
   "metadata": {},
   "outputs": [
    {
     "data": {
      "text/html": [
       "<div>\n",
       "<style scoped>\n",
       "    .dataframe tbody tr th:only-of-type {\n",
       "        vertical-align: middle;\n",
       "    }\n",
       "\n",
       "    .dataframe tbody tr th {\n",
       "        vertical-align: top;\n",
       "    }\n",
       "\n",
       "    .dataframe thead th {\n",
       "        text-align: right;\n",
       "    }\n",
       "</style>\n",
       "<table border=\"1\" class=\"dataframe\">\n",
       "  <thead>\n",
       "    <tr style=\"text-align: right;\">\n",
       "      <th></th>\n",
       "      <th>Year</th>\n",
       "      <th>Gender</th>\n",
       "      <th>Country</th>\n",
       "      <th>Children Number</th>\n",
       "    </tr>\n",
       "  </thead>\n",
       "  <tbody>\n",
       "    <tr>\n",
       "      <th>0</th>\n",
       "      <td>1987</td>\n",
       "      <td>M</td>\n",
       "      <td>US</td>\n",
       "      <td>1</td>\n",
       "    </tr>\n",
       "    <tr>\n",
       "      <th>1</th>\n",
       "      <td>1990?</td>\n",
       "      <td>M</td>\n",
       "      <td>UK</td>\n",
       "      <td>1</td>\n",
       "    </tr>\n",
       "    <tr>\n",
       "      <th>2</th>\n",
       "      <td>1992</td>\n",
       "      <td>F</td>\n",
       "      <td>US</td>\n",
       "      <td>2</td>\n",
       "    </tr>\n",
       "    <tr>\n",
       "      <th>3</th>\n",
       "      <td>1970?</td>\n",
       "      <td>M</td>\n",
       "      <td>IT</td>\n",
       "      <td>1</td>\n",
       "    </tr>\n",
       "    <tr>\n",
       "      <th>4</th>\n",
       "      <td>1985</td>\n",
       "      <td>F</td>\n",
       "      <td>I  T</td>\n",
       "      <td>2</td>\n",
       "    </tr>\n",
       "  </tbody>\n",
       "</table>\n",
       "</div>"
      ],
      "text/plain": [
       "    Year Gender Country Children Number\n",
       "0   1987      M     US                1\n",
       "1  1990?      M      UK               1\n",
       "2   1992      F      US               2\n",
       "3  1970?      M      IT               1\n",
       "4   1985      F    I  T               2"
      ]
     },
     "execution_count": 125,
     "metadata": {},
     "output_type": "execute_result"
    }
   ],
   "source": [
    "df"
   ]
  },
  {
   "cell_type": "code",
   "execution_count": 133,
   "id": "cbe823ed-983a-44d3-aeea-6ea560f414d5",
   "metadata": {},
   "outputs": [
    {
     "data": {
      "text/plain": [
       "0    False\n",
       "1     True\n",
       "2    False\n",
       "3     True\n",
       "4    False\n",
       "Name: Year, dtype: bool"
      ]
     },
     "execution_count": 133,
     "metadata": {},
     "output_type": "execute_result"
    }
   ],
   "source": [
    "df['Year'].str.contains('\\\\?')\n",
    "# Select those which contains ? in their Year values"
   ]
  },
  {
   "cell_type": "code",
   "execution_count": 134,
   "id": "e1a188c5-3a14-40ec-93c3-57c82fd32687",
   "metadata": {},
   "outputs": [
    {
     "data": {
      "text/plain": [
       "0    False\n",
       "1    False\n",
       "2    False\n",
       "3     True\n",
       "4     True\n",
       "Name: Country, dtype: bool"
      ]
     },
     "execution_count": 134,
     "metadata": {},
     "output_type": "execute_result"
    }
   ],
   "source": [
    "df['Country'].str.contains('I')"
   ]
  },
  {
   "cell_type": "code",
   "execution_count": 135,
   "id": "88d8ef95-a7c0-45e8-86fb-a00c6d45c740",
   "metadata": {},
   "outputs": [
    {
     "data": {
      "text/plain": [
       "0      US\n",
       "1      UK\n",
       "2      US\n",
       "3      IT\n",
       "4    I  T\n",
       "Name: Country, dtype: object"
      ]
     },
     "execution_count": 135,
     "metadata": {},
     "output_type": "execute_result"
    }
   ],
   "source": [
    "df['Country'].str.strip()"
   ]
  },
  {
   "cell_type": "code",
   "execution_count": 139,
   "id": "52a92503-d148-443d-bfb0-c12ba65d7725",
   "metadata": {},
   "outputs": [
    {
     "data": {
      "text/plain": [
       "0    US\n",
       "1    UK\n",
       "2    US\n",
       "3    IT\n",
       "4    IT\n",
       "Name: Country, dtype: object"
      ]
     },
     "execution_count": 139,
     "metadata": {},
     "output_type": "execute_result"
    }
   ],
   "source": [
    "df['Country'].str.replace(' ', '')\n",
    "# Remove the spaces"
   ]
  },
  {
   "cell_type": "code",
   "execution_count": 140,
   "id": "3e7bec66-2bc6-4271-874b-4ce17fcc1ea3",
   "metadata": {},
   "outputs": [
    {
     "data": {
      "text/plain": [
       "0    1987\n",
       "1    1990\n",
       "2    1992\n",
       "3    1970\n",
       "4    1985\n",
       "Name: Year, dtype: object"
      ]
     },
     "execution_count": 140,
     "metadata": {},
     "output_type": "execute_result"
    }
   ],
   "source": [
    "df['Year'].str.replace('?', '')\n",
    "# Remove the unnecesarry ? signs"
   ]
  },
  {
   "cell_type": "code",
   "execution_count": null,
   "id": "62a3430e-ef8a-43c0-9ee9-6ad5009134c8",
   "metadata": {},
   "outputs": [],
   "source": []
  }
 ],
 "metadata": {
  "kernelspec": {
   "display_name": "Python 3 (ipykernel)",
   "language": "python",
   "name": "python3"
  },
  "language_info": {
   "codemirror_mode": {
    "name": "ipython",
    "version": 3
   },
   "file_extension": ".py",
   "mimetype": "text/x-python",
   "name": "python",
   "nbconvert_exporter": "python",
   "pygments_lexer": "ipython3",
   "version": "3.12.4"
  }
 },
 "nbformat": 4,
 "nbformat_minor": 5
}
