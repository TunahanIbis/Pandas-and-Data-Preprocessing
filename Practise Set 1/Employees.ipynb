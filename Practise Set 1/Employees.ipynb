{
 "cells": [
  {
   "cell_type": "code",
   "execution_count": 4,
   "id": "cc0d69c2-00a8-473a-b3db-b4968c91804d",
   "metadata": {},
   "outputs": [],
   "source": [
    "import pandas as pd\n",
    "import numpy as np"
   ]
  },
  {
   "cell_type": "code",
   "execution_count": 12,
   "id": "a3df51c9-0ca6-46f4-90b3-9c9e7736afbc",
   "metadata": {},
   "outputs": [],
   "source": [
    "employees = pd.DataFrame({\n",
    "    'ID': [313, 424, 953, 341, 950], 'Department': ['HR', 'IT', 'IT', 'HR', 'HR'], 'Gender': ['male', 'male', 'female', 'male', 'female'], 'Total Sale': [150, 340, 850, 560, 480]\n",
    "}, index= ['Ahmet', 'Can','Ayşe', 'Mehmet', 'Lale'])\n"
   ]
  },
  {
   "cell_type": "code",
   "execution_count": 13,
   "id": "565906ee-fbcf-4594-989b-d56b2899630e",
   "metadata": {},
   "outputs": [
    {
     "data": {
      "text/html": [
       "<div>\n",
       "<style scoped>\n",
       "    .dataframe tbody tr th:only-of-type {\n",
       "        vertical-align: middle;\n",
       "    }\n",
       "\n",
       "    .dataframe tbody tr th {\n",
       "        vertical-align: top;\n",
       "    }\n",
       "\n",
       "    .dataframe thead th {\n",
       "        text-align: right;\n",
       "    }\n",
       "</style>\n",
       "<table border=\"1\" class=\"dataframe\">\n",
       "  <thead>\n",
       "    <tr style=\"text-align: right;\">\n",
       "      <th></th>\n",
       "      <th>ID</th>\n",
       "      <th>Department</th>\n",
       "      <th>Gender</th>\n",
       "      <th>Total Sale</th>\n",
       "    </tr>\n",
       "  </thead>\n",
       "  <tbody>\n",
       "    <tr>\n",
       "      <th>Ahmet</th>\n",
       "      <td>313</td>\n",
       "      <td>HR</td>\n",
       "      <td>male</td>\n",
       "      <td>150</td>\n",
       "    </tr>\n",
       "    <tr>\n",
       "      <th>Can</th>\n",
       "      <td>424</td>\n",
       "      <td>IT</td>\n",
       "      <td>male</td>\n",
       "      <td>340</td>\n",
       "    </tr>\n",
       "    <tr>\n",
       "      <th>Ayşe</th>\n",
       "      <td>953</td>\n",
       "      <td>IT</td>\n",
       "      <td>female</td>\n",
       "      <td>850</td>\n",
       "    </tr>\n",
       "    <tr>\n",
       "      <th>Mehmet</th>\n",
       "      <td>341</td>\n",
       "      <td>HR</td>\n",
       "      <td>male</td>\n",
       "      <td>560</td>\n",
       "    </tr>\n",
       "    <tr>\n",
       "      <th>Lale</th>\n",
       "      <td>950</td>\n",
       "      <td>HR</td>\n",
       "      <td>female</td>\n",
       "      <td>480</td>\n",
       "    </tr>\n",
       "  </tbody>\n",
       "</table>\n",
       "</div>"
      ],
      "text/plain": [
       "         ID Department  Gender  Total Sale\n",
       "Ahmet   313         HR    male         150\n",
       "Can     424         IT    male         340\n",
       "Ayşe    953         IT  female         850\n",
       "Mehmet  341         HR    male         560\n",
       "Lale    950         HR  female         480"
      ]
     },
     "execution_count": 13,
     "metadata": {},
     "output_type": "execute_result"
    }
   ],
   "source": [
    "employees"
   ]
  },
  {
   "cell_type": "code",
   "execution_count": 20,
   "id": "a5352e6e-b2d4-4afb-91bd-87d95c7ec8c1",
   "metadata": {},
   "outputs": [
    {
     "data": {
      "text/html": [
       "<div>\n",
       "<style scoped>\n",
       "    .dataframe tbody tr th:only-of-type {\n",
       "        vertical-align: middle;\n",
       "    }\n",
       "\n",
       "    .dataframe tbody tr th {\n",
       "        vertical-align: top;\n",
       "    }\n",
       "\n",
       "    .dataframe thead th {\n",
       "        text-align: right;\n",
       "    }\n",
       "</style>\n",
       "<table border=\"1\" class=\"dataframe\">\n",
       "  <thead>\n",
       "    <tr style=\"text-align: right;\">\n",
       "      <th></th>\n",
       "      <th>ID</th>\n",
       "      <th>Department</th>\n",
       "      <th>Gender</th>\n",
       "      <th>Total Sale</th>\n",
       "    </tr>\n",
       "  </thead>\n",
       "  <tbody>\n",
       "    <tr>\n",
       "      <th>Ahmet</th>\n",
       "      <td>313</td>\n",
       "      <td>HR</td>\n",
       "      <td>male</td>\n",
       "      <td>150</td>\n",
       "    </tr>\n",
       "    <tr>\n",
       "      <th>Can</th>\n",
       "      <td>424</td>\n",
       "      <td>IT</td>\n",
       "      <td>male</td>\n",
       "      <td>340</td>\n",
       "    </tr>\n",
       "    <tr>\n",
       "      <th>Ayşe</th>\n",
       "      <td>953</td>\n",
       "      <td>IT</td>\n",
       "      <td>female</td>\n",
       "      <td>850</td>\n",
       "    </tr>\n",
       "  </tbody>\n",
       "</table>\n",
       "</div>"
      ],
      "text/plain": [
       "        ID Department  Gender  Total Sale\n",
       "Ahmet  313         HR    male         150\n",
       "Can    424         IT    male         340\n",
       "Ayşe   953         IT  female         850"
      ]
     },
     "execution_count": 20,
     "metadata": {},
     "output_type": "execute_result"
    }
   ],
   "source": [
    " employees['Ahmet': 'Ayşe']"
   ]
  },
  {
   "cell_type": "code",
   "execution_count": 29,
   "id": "27d458df-498d-438a-9d86-1ebe93f987ab",
   "metadata": {},
   "outputs": [
    {
     "data": {
      "text/html": [
       "<div>\n",
       "<style scoped>\n",
       "    .dataframe tbody tr th:only-of-type {\n",
       "        vertical-align: middle;\n",
       "    }\n",
       "\n",
       "    .dataframe tbody tr th {\n",
       "        vertical-align: top;\n",
       "    }\n",
       "\n",
       "    .dataframe thead th {\n",
       "        text-align: right;\n",
       "    }\n",
       "</style>\n",
       "<table border=\"1\" class=\"dataframe\">\n",
       "  <thead>\n",
       "    <tr style=\"text-align: right;\">\n",
       "      <th></th>\n",
       "      <th>ID</th>\n",
       "      <th>Department</th>\n",
       "      <th>Gender</th>\n",
       "      <th>Total Sale</th>\n",
       "    </tr>\n",
       "  </thead>\n",
       "  <tbody>\n",
       "    <tr>\n",
       "      <th>Ayşe</th>\n",
       "      <td>953</td>\n",
       "      <td>IT</td>\n",
       "      <td>female</td>\n",
       "      <td>850</td>\n",
       "    </tr>\n",
       "    <tr>\n",
       "      <th>Lale</th>\n",
       "      <td>950</td>\n",
       "      <td>HR</td>\n",
       "      <td>female</td>\n",
       "      <td>480</td>\n",
       "    </tr>\n",
       "  </tbody>\n",
       "</table>\n",
       "</div>"
      ],
      "text/plain": [
       "       ID Department  Gender  Total Sale\n",
       "Ayşe  953         IT  female         850\n",
       "Lale  950         HR  female         480"
      ]
     },
     "execution_count": 29,
     "metadata": {},
     "output_type": "execute_result"
    }
   ],
   "source": [
    "employees[employees[\"Gender\"] == \"female\"]"
   ]
  },
  {
   "cell_type": "code",
   "execution_count": 30,
   "id": "cfd6ecc7-f539-4ced-a004-36b79015a381",
   "metadata": {},
   "outputs": [
    {
     "data": {
      "text/plain": [
       "(5, 4)"
      ]
     },
     "execution_count": 30,
     "metadata": {},
     "output_type": "execute_result"
    }
   ],
   "source": [
    "employees.shape"
   ]
  },
  {
   "cell_type": "code",
   "execution_count": 31,
   "id": "6023ff6b-002f-4a7d-90f7-321fc19a7ae6",
   "metadata": {},
   "outputs": [
    {
     "data": {
      "text/plain": [
       "ID               953\n",
       "Department        IT\n",
       "Gender        female\n",
       "Total Sale       850\n",
       "Name: Ayşe, dtype: object"
      ]
     },
     "execution_count": 31,
     "metadata": {},
     "output_type": "execute_result"
    }
   ],
   "source": [
    "employees.iloc[2]"
   ]
  },
  {
   "cell_type": "code",
   "execution_count": 32,
   "id": "b4e0c807-d118-445f-b18a-d70d297b3334",
   "metadata": {},
   "outputs": [
    {
     "data": {
      "text/plain": [
       "ID             341\n",
       "Department      HR\n",
       "Gender        male\n",
       "Total Sale     560\n",
       "Name: Mehmet, dtype: object"
      ]
     },
     "execution_count": 32,
     "metadata": {},
     "output_type": "execute_result"
    }
   ],
   "source": [
    "employees.loc['Mehmet']"
   ]
  },
  {
   "cell_type": "code",
   "execution_count": 38,
   "id": "65f67c02-1d49-4a69-9e29-7a3be407dae9",
   "metadata": {},
   "outputs": [
    {
     "data": {
      "text/html": [
       "<div>\n",
       "<style scoped>\n",
       "    .dataframe tbody tr th:only-of-type {\n",
       "        vertical-align: middle;\n",
       "    }\n",
       "\n",
       "    .dataframe tbody tr th {\n",
       "        vertical-align: top;\n",
       "    }\n",
       "\n",
       "    .dataframe thead th {\n",
       "        text-align: right;\n",
       "    }\n",
       "</style>\n",
       "<table border=\"1\" class=\"dataframe\">\n",
       "  <thead>\n",
       "    <tr style=\"text-align: right;\">\n",
       "      <th></th>\n",
       "      <th>ID</th>\n",
       "      <th>Department</th>\n",
       "    </tr>\n",
       "  </thead>\n",
       "  <tbody>\n",
       "    <tr>\n",
       "      <th>Mehmet</th>\n",
       "      <td>341</td>\n",
       "      <td>HR</td>\n",
       "    </tr>\n",
       "    <tr>\n",
       "      <th>Lale</th>\n",
       "      <td>950</td>\n",
       "      <td>HR</td>\n",
       "    </tr>\n",
       "  </tbody>\n",
       "</table>\n",
       "</div>"
      ],
      "text/plain": [
       "         ID Department\n",
       "Mehmet  341         HR\n",
       "Lale    950         HR"
      ]
     },
     "execution_count": 38,
     "metadata": {},
     "output_type": "execute_result"
    }
   ],
   "source": [
    "employees.loc[\"Mehmet\": \"Lale\", \"ID\": \"Department\"]"
   ]
  },
  {
   "cell_type": "code",
   "execution_count": 39,
   "id": "5e759871-100d-4cf3-ad94-5dc498430952",
   "metadata": {},
   "outputs": [
    {
     "data": {
      "text/plain": [
       "Ahmet     False\n",
       "Can       False\n",
       "Ayşe       True\n",
       "Mehmet    False\n",
       "Lale       True\n",
       "Name: ID, dtype: bool"
      ]
     },
     "execution_count": 39,
     "metadata": {},
     "output_type": "execute_result"
    }
   ],
   "source": [
    "employees[\"ID\"] > 600"
   ]
  },
  {
   "cell_type": "code",
   "execution_count": 40,
   "id": "3c8dd52b-d6fa-439c-8466-c6688e577093",
   "metadata": {},
   "outputs": [
    {
     "data": {
      "text/html": [
       "<div>\n",
       "<style scoped>\n",
       "    .dataframe tbody tr th:only-of-type {\n",
       "        vertical-align: middle;\n",
       "    }\n",
       "\n",
       "    .dataframe tbody tr th {\n",
       "        vertical-align: top;\n",
       "    }\n",
       "\n",
       "    .dataframe thead th {\n",
       "        text-align: right;\n",
       "    }\n",
       "</style>\n",
       "<table border=\"1\" class=\"dataframe\">\n",
       "  <thead>\n",
       "    <tr style=\"text-align: right;\">\n",
       "      <th></th>\n",
       "      <th>ID</th>\n",
       "      <th>Department</th>\n",
       "      <th>Gender</th>\n",
       "      <th>Total Sale</th>\n",
       "    </tr>\n",
       "  </thead>\n",
       "  <tbody>\n",
       "    <tr>\n",
       "      <th>Ayşe</th>\n",
       "      <td>953</td>\n",
       "      <td>IT</td>\n",
       "      <td>female</td>\n",
       "      <td>850</td>\n",
       "    </tr>\n",
       "    <tr>\n",
       "      <th>Lale</th>\n",
       "      <td>950</td>\n",
       "      <td>HR</td>\n",
       "      <td>female</td>\n",
       "      <td>480</td>\n",
       "    </tr>\n",
       "  </tbody>\n",
       "</table>\n",
       "</div>"
      ],
      "text/plain": [
       "       ID Department  Gender  Total Sale\n",
       "Ayşe  953         IT  female         850\n",
       "Lale  950         HR  female         480"
      ]
     },
     "execution_count": 40,
     "metadata": {},
     "output_type": "execute_result"
    }
   ],
   "source": [
    "employees.loc[employees[\"ID\"] > 600]"
   ]
  },
  {
   "cell_type": "code",
   "execution_count": 41,
   "id": "f22c9111-87fd-428b-ad95-de651cc312b9",
   "metadata": {},
   "outputs": [
    {
     "data": {
      "text/plain": [
       "Ayşe    850\n",
       "Lale    480\n",
       "Name: Total Sale, dtype: int64"
      ]
     },
     "execution_count": 41,
     "metadata": {},
     "output_type": "execute_result"
    }
   ],
   "source": [
    "employees.loc[employees[\"ID\"] > 600, \"Total Sale\"]"
   ]
  },
  {
   "cell_type": "code",
   "execution_count": 42,
   "id": "491c6d6d-ba30-499a-8335-6bc10cbf81dd",
   "metadata": {},
   "outputs": [
    {
     "data": {
      "text/html": [
       "<div>\n",
       "<style scoped>\n",
       "    .dataframe tbody tr th:only-of-type {\n",
       "        vertical-align: middle;\n",
       "    }\n",
       "\n",
       "    .dataframe tbody tr th {\n",
       "        vertical-align: top;\n",
       "    }\n",
       "\n",
       "    .dataframe thead th {\n",
       "        text-align: right;\n",
       "    }\n",
       "</style>\n",
       "<table border=\"1\" class=\"dataframe\">\n",
       "  <thead>\n",
       "    <tr style=\"text-align: right;\">\n",
       "      <th></th>\n",
       "      <th>ID</th>\n",
       "      <th>Department</th>\n",
       "      <th>Gender</th>\n",
       "      <th>Total Sale</th>\n",
       "    </tr>\n",
       "  </thead>\n",
       "  <tbody>\n",
       "    <tr>\n",
       "      <th>Can</th>\n",
       "      <td>424</td>\n",
       "      <td>IT</td>\n",
       "      <td>male</td>\n",
       "      <td>340</td>\n",
       "    </tr>\n",
       "    <tr>\n",
       "      <th>Ayşe</th>\n",
       "      <td>953</td>\n",
       "      <td>IT</td>\n",
       "      <td>female</td>\n",
       "      <td>850</td>\n",
       "    </tr>\n",
       "    <tr>\n",
       "      <th>Mehmet</th>\n",
       "      <td>341</td>\n",
       "      <td>HR</td>\n",
       "      <td>male</td>\n",
       "      <td>560</td>\n",
       "    </tr>\n",
       "    <tr>\n",
       "      <th>Lale</th>\n",
       "      <td>950</td>\n",
       "      <td>HR</td>\n",
       "      <td>female</td>\n",
       "      <td>480</td>\n",
       "    </tr>\n",
       "  </tbody>\n",
       "</table>\n",
       "</div>"
      ],
      "text/plain": [
       "         ID Department  Gender  Total Sale\n",
       "Can     424         IT    male         340\n",
       "Ayşe    953         IT  female         850\n",
       "Mehmet  341         HR    male         560\n",
       "Lale    950         HR  female         480"
      ]
     },
     "execution_count": 42,
     "metadata": {},
     "output_type": "execute_result"
    }
   ],
   "source": [
    "employees.drop(\"Ahmet\")"
   ]
  },
  {
   "cell_type": "code",
   "execution_count": 44,
   "id": "9b8624e4-d9ca-44aa-a643-632db8f46ded",
   "metadata": {},
   "outputs": [
    {
     "data": {
      "text/html": [
       "<div>\n",
       "<style scoped>\n",
       "    .dataframe tbody tr th:only-of-type {\n",
       "        vertical-align: middle;\n",
       "    }\n",
       "\n",
       "    .dataframe tbody tr th {\n",
       "        vertical-align: top;\n",
       "    }\n",
       "\n",
       "    .dataframe thead th {\n",
       "        text-align: right;\n",
       "    }\n",
       "</style>\n",
       "<table border=\"1\" class=\"dataframe\">\n",
       "  <thead>\n",
       "    <tr style=\"text-align: right;\">\n",
       "      <th></th>\n",
       "      <th>ID</th>\n",
       "      <th>Total Sale</th>\n",
       "    </tr>\n",
       "  </thead>\n",
       "  <tbody>\n",
       "    <tr>\n",
       "      <th>Ahmet</th>\n",
       "      <td>313</td>\n",
       "      <td>150</td>\n",
       "    </tr>\n",
       "    <tr>\n",
       "      <th>Can</th>\n",
       "      <td>424</td>\n",
       "      <td>340</td>\n",
       "    </tr>\n",
       "    <tr>\n",
       "      <th>Ayşe</th>\n",
       "      <td>953</td>\n",
       "      <td>850</td>\n",
       "    </tr>\n",
       "    <tr>\n",
       "      <th>Mehmet</th>\n",
       "      <td>341</td>\n",
       "      <td>560</td>\n",
       "    </tr>\n",
       "    <tr>\n",
       "      <th>Lale</th>\n",
       "      <td>950</td>\n",
       "      <td>480</td>\n",
       "    </tr>\n",
       "  </tbody>\n",
       "</table>\n",
       "</div>"
      ],
      "text/plain": [
       "         ID  Total Sale\n",
       "Ahmet   313         150\n",
       "Can     424         340\n",
       "Ayşe    953         850\n",
       "Mehmet  341         560\n",
       "Lale    950         480"
      ]
     },
     "execution_count": 44,
     "metadata": {},
     "output_type": "execute_result"
    }
   ],
   "source": [
    "employees.drop([\"Gender\", \"Department\"], axis=1)"
   ]
  },
  {
   "cell_type": "code",
   "execution_count": 47,
   "id": "6915e18c-9bf8-4fab-873d-66d8b6e7b35f",
   "metadata": {},
   "outputs": [
    {
     "data": {
      "text/plain": [
       "Ahmet     15000\n",
       "Can       34000\n",
       "Ayşe      85000\n",
       "Mehmet    56000\n",
       "Lale      48000\n",
       "Name: Total Sale, dtype: int64"
      ]
     },
     "execution_count": 47,
     "metadata": {},
     "output_type": "execute_result"
    }
   ],
   "source": [
    "employees[\"Total Sale\"] * 100"
   ]
  },
  {
   "cell_type": "code",
   "execution_count": 53,
   "id": "c7beca3a-ef7d-4b2b-8125-7d87dbbd1b55",
   "metadata": {},
   "outputs": [],
   "source": [
    "Salary=pd.Series(\n",
    "    [635, 884, 315, 958, 559],\n",
    "    index=employees.index)"
   ]
  },
  {
   "cell_type": "code",
   "execution_count": 54,
   "id": "3d4f392c-4b6c-4bc8-af05-3f33291fb668",
   "metadata": {},
   "outputs": [],
   "source": [
    "employees[\"Salary\"] = Salary"
   ]
  },
  {
   "cell_type": "code",
   "execution_count": 55,
   "id": "5e0653ec-544f-47af-8118-35631e79ad06",
   "metadata": {},
   "outputs": [
    {
     "data": {
      "text/html": [
       "<div>\n",
       "<style scoped>\n",
       "    .dataframe tbody tr th:only-of-type {\n",
       "        vertical-align: middle;\n",
       "    }\n",
       "\n",
       "    .dataframe tbody tr th {\n",
       "        vertical-align: top;\n",
       "    }\n",
       "\n",
       "    .dataframe thead th {\n",
       "        text-align: right;\n",
       "    }\n",
       "</style>\n",
       "<table border=\"1\" class=\"dataframe\">\n",
       "  <thead>\n",
       "    <tr style=\"text-align: right;\">\n",
       "      <th></th>\n",
       "      <th>ID</th>\n",
       "      <th>Department</th>\n",
       "      <th>Gender</th>\n",
       "      <th>Total Sale</th>\n",
       "      <th>Salary</th>\n",
       "    </tr>\n",
       "  </thead>\n",
       "  <tbody>\n",
       "    <tr>\n",
       "      <th>Ahmet</th>\n",
       "      <td>313</td>\n",
       "      <td>HR</td>\n",
       "      <td>male</td>\n",
       "      <td>150</td>\n",
       "      <td>635</td>\n",
       "    </tr>\n",
       "    <tr>\n",
       "      <th>Can</th>\n",
       "      <td>424</td>\n",
       "      <td>IT</td>\n",
       "      <td>male</td>\n",
       "      <td>340</td>\n",
       "      <td>884</td>\n",
       "    </tr>\n",
       "    <tr>\n",
       "      <th>Ayşe</th>\n",
       "      <td>953</td>\n",
       "      <td>IT</td>\n",
       "      <td>female</td>\n",
       "      <td>850</td>\n",
       "      <td>315</td>\n",
       "    </tr>\n",
       "    <tr>\n",
       "      <th>Mehmet</th>\n",
       "      <td>341</td>\n",
       "      <td>HR</td>\n",
       "      <td>male</td>\n",
       "      <td>560</td>\n",
       "      <td>958</td>\n",
       "    </tr>\n",
       "    <tr>\n",
       "      <th>Lale</th>\n",
       "      <td>950</td>\n",
       "      <td>HR</td>\n",
       "      <td>female</td>\n",
       "      <td>480</td>\n",
       "      <td>559</td>\n",
       "    </tr>\n",
       "  </tbody>\n",
       "</table>\n",
       "</div>"
      ],
      "text/plain": [
       "         ID Department  Gender  Total Sale  Salary\n",
       "Ahmet   313         HR    male         150     635\n",
       "Can     424         IT    male         340     884\n",
       "Ayşe    953         IT  female         850     315\n",
       "Mehmet  341         HR    male         560     958\n",
       "Lale    950         HR  female         480     559"
      ]
     },
     "execution_count": 55,
     "metadata": {},
     "output_type": "execute_result"
    }
   ],
   "source": [
    "employees"
   ]
  },
  {
   "cell_type": "code",
   "execution_count": 56,
   "id": "517b8449-8e01-4601-8916-7fec770d159b",
   "metadata": {},
   "outputs": [
    {
     "data": {
      "text/html": [
       "<div>\n",
       "<style scoped>\n",
       "    .dataframe tbody tr th:only-of-type {\n",
       "        vertical-align: middle;\n",
       "    }\n",
       "\n",
       "    .dataframe tbody tr th {\n",
       "        vertical-align: top;\n",
       "    }\n",
       "\n",
       "    .dataframe thead th {\n",
       "        text-align: right;\n",
       "    }\n",
       "</style>\n",
       "<table border=\"1\" class=\"dataframe\">\n",
       "  <thead>\n",
       "    <tr style=\"text-align: right;\">\n",
       "      <th></th>\n",
       "      <th>ID</th>\n",
       "      <th>Salary</th>\n",
       "    </tr>\n",
       "  </thead>\n",
       "  <tbody>\n",
       "    <tr>\n",
       "      <th>Ahmet</th>\n",
       "      <td>3.13</td>\n",
       "      <td>6.35</td>\n",
       "    </tr>\n",
       "    <tr>\n",
       "      <th>Can</th>\n",
       "      <td>4.24</td>\n",
       "      <td>8.84</td>\n",
       "    </tr>\n",
       "    <tr>\n",
       "      <th>Ayşe</th>\n",
       "      <td>9.53</td>\n",
       "      <td>3.15</td>\n",
       "    </tr>\n",
       "    <tr>\n",
       "      <th>Mehmet</th>\n",
       "      <td>3.41</td>\n",
       "      <td>9.58</td>\n",
       "    </tr>\n",
       "    <tr>\n",
       "      <th>Lale</th>\n",
       "      <td>9.50</td>\n",
       "      <td>5.59</td>\n",
       "    </tr>\n",
       "  </tbody>\n",
       "</table>\n",
       "</div>"
      ],
      "text/plain": [
       "          ID  Salary\n",
       "Ahmet   3.13    6.35\n",
       "Can     4.24    8.84\n",
       "Ayşe    9.53    3.15\n",
       "Mehmet  3.41    9.58\n",
       "Lale    9.50    5.59"
      ]
     },
     "execution_count": 56,
     "metadata": {},
     "output_type": "execute_result"
    }
   ],
   "source": [
    "employees[[\"ID\", \"Salary\"]] / 100"
   ]
  },
  {
   "cell_type": "code",
   "execution_count": 57,
   "id": "1d1a50d0-e675-4d5d-b564-40e5305b3051",
   "metadata": {},
   "outputs": [
    {
     "data": {
      "text/plain": [
       "Ahmet      735\n",
       "Can        984\n",
       "Ayşe       415\n",
       "Mehmet    1058\n",
       "Lale       659\n",
       "Name: Salary, dtype: int64"
      ]
     },
     "execution_count": 57,
     "metadata": {},
     "output_type": "execute_result"
    }
   ],
   "source": [
    "employees[\"Salary\"] + 100"
   ]
  },
  {
   "cell_type": "code",
   "execution_count": 62,
   "id": "36a61885-97fa-49da-b6dc-8e032b7a74bb",
   "metadata": {},
   "outputs": [],
   "source": [
    "employees[\"Salary\"] = employees[\"Salary\"] + 100"
   ]
  },
  {
   "cell_type": "code",
   "execution_count": 64,
   "id": "f017f660-3c48-42b6-9e3a-2aef7d8930c1",
   "metadata": {},
   "outputs": [
    {
     "data": {
      "text/html": [
       "<div>\n",
       "<style scoped>\n",
       "    .dataframe tbody tr th:only-of-type {\n",
       "        vertical-align: middle;\n",
       "    }\n",
       "\n",
       "    .dataframe tbody tr th {\n",
       "        vertical-align: top;\n",
       "    }\n",
       "\n",
       "    .dataframe thead th {\n",
       "        text-align: right;\n",
       "    }\n",
       "</style>\n",
       "<table border=\"1\" class=\"dataframe\">\n",
       "  <thead>\n",
       "    <tr style=\"text-align: right;\">\n",
       "      <th></th>\n",
       "      <th>ID</th>\n",
       "      <th>Department</th>\n",
       "      <th>Gender</th>\n",
       "      <th>Total Sale</th>\n",
       "      <th>Raised Salary</th>\n",
       "      <th>Raised Salary</th>\n",
       "    </tr>\n",
       "  </thead>\n",
       "  <tbody>\n",
       "    <tr>\n",
       "      <th>Ahmet</th>\n",
       "      <td>313</td>\n",
       "      <td>HR</td>\n",
       "      <td>male</td>\n",
       "      <td>150</td>\n",
       "      <td>835</td>\n",
       "      <td>835</td>\n",
       "    </tr>\n",
       "    <tr>\n",
       "      <th>Can</th>\n",
       "      <td>424</td>\n",
       "      <td>IT</td>\n",
       "      <td>male</td>\n",
       "      <td>340</td>\n",
       "      <td>1084</td>\n",
       "      <td>1084</td>\n",
       "    </tr>\n",
       "    <tr>\n",
       "      <th>Ayşe</th>\n",
       "      <td>953</td>\n",
       "      <td>IT</td>\n",
       "      <td>female</td>\n",
       "      <td>850</td>\n",
       "      <td>515</td>\n",
       "      <td>515</td>\n",
       "    </tr>\n",
       "    <tr>\n",
       "      <th>Mehmet</th>\n",
       "      <td>341</td>\n",
       "      <td>HR</td>\n",
       "      <td>male</td>\n",
       "      <td>560</td>\n",
       "      <td>1158</td>\n",
       "      <td>1158</td>\n",
       "    </tr>\n",
       "    <tr>\n",
       "      <th>Lale</th>\n",
       "      <td>950</td>\n",
       "      <td>HR</td>\n",
       "      <td>female</td>\n",
       "      <td>480</td>\n",
       "      <td>759</td>\n",
       "      <td>759</td>\n",
       "    </tr>\n",
       "  </tbody>\n",
       "</table>\n",
       "</div>"
      ],
      "text/plain": [
       "         ID Department  Gender  Total Sale  Raised Salary  Raised Salary\n",
       "Ahmet   313         HR    male         150            835            835\n",
       "Can     424         IT    male         340           1084           1084\n",
       "Ayşe    953         IT  female         850            515            515\n",
       "Mehmet  341         HR    male         560           1158           1158\n",
       "Lale    950         HR  female         480            759            759"
      ]
     },
     "execution_count": 64,
     "metadata": {},
     "output_type": "execute_result"
    }
   ],
   "source": [
    "employees.rename(\n",
    "    columns={\n",
    "       \"Salary\": \"Raised Salary\"\n",
    "    }\n",
    ")"
   ]
  },
  {
   "cell_type": "code",
   "execution_count": 65,
   "id": "638c0fd3-600d-48a3-bca2-726767db378c",
   "metadata": {},
   "outputs": [
    {
     "data": {
      "text/html": [
       "<div>\n",
       "<style scoped>\n",
       "    .dataframe tbody tr th:only-of-type {\n",
       "        vertical-align: middle;\n",
       "    }\n",
       "\n",
       "    .dataframe tbody tr th {\n",
       "        vertical-align: top;\n",
       "    }\n",
       "\n",
       "    .dataframe thead th {\n",
       "        text-align: right;\n",
       "    }\n",
       "</style>\n",
       "<table border=\"1\" class=\"dataframe\">\n",
       "  <thead>\n",
       "    <tr style=\"text-align: right;\">\n",
       "      <th></th>\n",
       "      <th>ID</th>\n",
       "      <th>Department</th>\n",
       "      <th>Gender</th>\n",
       "      <th>Total Sale</th>\n",
       "      <th>Salary</th>\n",
       "      <th>Raised Salary</th>\n",
       "    </tr>\n",
       "  </thead>\n",
       "  <tbody>\n",
       "    <tr>\n",
       "      <th>Ahmet</th>\n",
       "      <td>313</td>\n",
       "      <td>HR</td>\n",
       "      <td>male</td>\n",
       "      <td>150</td>\n",
       "      <td>835</td>\n",
       "      <td>835</td>\n",
       "    </tr>\n",
       "    <tr>\n",
       "      <th>Can</th>\n",
       "      <td>424</td>\n",
       "      <td>IT</td>\n",
       "      <td>male</td>\n",
       "      <td>340</td>\n",
       "      <td>1084</td>\n",
       "      <td>1084</td>\n",
       "    </tr>\n",
       "    <tr>\n",
       "      <th>Ayşe</th>\n",
       "      <td>953</td>\n",
       "      <td>IT</td>\n",
       "      <td>female</td>\n",
       "      <td>850</td>\n",
       "      <td>515</td>\n",
       "      <td>515</td>\n",
       "    </tr>\n",
       "    <tr>\n",
       "      <th>Mehmet</th>\n",
       "      <td>341</td>\n",
       "      <td>HR</td>\n",
       "      <td>male</td>\n",
       "      <td>560</td>\n",
       "      <td>1158</td>\n",
       "      <td>1158</td>\n",
       "    </tr>\n",
       "    <tr>\n",
       "      <th>Lale</th>\n",
       "      <td>950</td>\n",
       "      <td>HR</td>\n",
       "      <td>female</td>\n",
       "      <td>480</td>\n",
       "      <td>759</td>\n",
       "      <td>759</td>\n",
       "    </tr>\n",
       "  </tbody>\n",
       "</table>\n",
       "</div>"
      ],
      "text/plain": [
       "         ID Department  Gender  Total Sale  Salary  Raised Salary\n",
       "Ahmet   313         HR    male         150     835            835\n",
       "Can     424         IT    male         340    1084           1084\n",
       "Ayşe    953         IT  female         850     515            515\n",
       "Mehmet  341         HR    male         560    1158           1158\n",
       "Lale    950         HR  female         480     759            759"
      ]
     },
     "execution_count": 65,
     "metadata": {},
     "output_type": "execute_result"
    }
   ],
   "source": [
    "employees"
   ]
  },
  {
   "cell_type": "code",
   "execution_count": 68,
   "id": "4d1cdd47-a3ab-4ee9-90a0-ecd7aaa74e1e",
   "metadata": {},
   "outputs": [],
   "source": [
    "new_employee = pd.Series({\"ID\": 754, \"Department\": \"Management\", \"Gender\": \"female\", \"Total Sale\": 542, \"Salary\": 785}, name= \"Nazlı\")"
   ]
  },
  {
   "cell_type": "code",
   "execution_count": 69,
   "id": "c062db54-8c28-4f85-9634-ba4735c0c339",
   "metadata": {},
   "outputs": [],
   "source": [
    "employees = pd.concat([employees, new_employee.to_frame().T])"
   ]
  },
  {
   "cell_type": "code",
   "execution_count": 70,
   "id": "b467aa58-d108-4878-b1a1-0435e291dc74",
   "metadata": {},
   "outputs": [
    {
     "data": {
      "text/html": [
       "<div>\n",
       "<style scoped>\n",
       "    .dataframe tbody tr th:only-of-type {\n",
       "        vertical-align: middle;\n",
       "    }\n",
       "\n",
       "    .dataframe tbody tr th {\n",
       "        vertical-align: top;\n",
       "    }\n",
       "\n",
       "    .dataframe thead th {\n",
       "        text-align: right;\n",
       "    }\n",
       "</style>\n",
       "<table border=\"1\" class=\"dataframe\">\n",
       "  <thead>\n",
       "    <tr style=\"text-align: right;\">\n",
       "      <th></th>\n",
       "      <th>ID</th>\n",
       "      <th>Department</th>\n",
       "      <th>Gender</th>\n",
       "      <th>Total Sale</th>\n",
       "      <th>Salary</th>\n",
       "      <th>Raised Salary</th>\n",
       "    </tr>\n",
       "  </thead>\n",
       "  <tbody>\n",
       "    <tr>\n",
       "      <th>Ahmet</th>\n",
       "      <td>313</td>\n",
       "      <td>HR</td>\n",
       "      <td>male</td>\n",
       "      <td>150</td>\n",
       "      <td>835</td>\n",
       "      <td>835.0</td>\n",
       "    </tr>\n",
       "    <tr>\n",
       "      <th>Can</th>\n",
       "      <td>424</td>\n",
       "      <td>IT</td>\n",
       "      <td>male</td>\n",
       "      <td>340</td>\n",
       "      <td>1084</td>\n",
       "      <td>1084.0</td>\n",
       "    </tr>\n",
       "    <tr>\n",
       "      <th>Ayşe</th>\n",
       "      <td>953</td>\n",
       "      <td>IT</td>\n",
       "      <td>female</td>\n",
       "      <td>850</td>\n",
       "      <td>515</td>\n",
       "      <td>515.0</td>\n",
       "    </tr>\n",
       "    <tr>\n",
       "      <th>Mehmet</th>\n",
       "      <td>341</td>\n",
       "      <td>HR</td>\n",
       "      <td>male</td>\n",
       "      <td>560</td>\n",
       "      <td>1158</td>\n",
       "      <td>1158.0</td>\n",
       "    </tr>\n",
       "    <tr>\n",
       "      <th>Lale</th>\n",
       "      <td>950</td>\n",
       "      <td>HR</td>\n",
       "      <td>female</td>\n",
       "      <td>480</td>\n",
       "      <td>759</td>\n",
       "      <td>759.0</td>\n",
       "    </tr>\n",
       "    <tr>\n",
       "      <th>Nazlı</th>\n",
       "      <td>754</td>\n",
       "      <td>Management</td>\n",
       "      <td>female</td>\n",
       "      <td>542</td>\n",
       "      <td>785</td>\n",
       "      <td>NaN</td>\n",
       "    </tr>\n",
       "  </tbody>\n",
       "</table>\n",
       "</div>"
      ],
      "text/plain": [
       "         ID  Department  Gender Total Sale Salary  Raised Salary\n",
       "Ahmet   313          HR    male        150    835          835.0\n",
       "Can     424          IT    male        340   1084         1084.0\n",
       "Ayşe    953          IT  female        850    515          515.0\n",
       "Mehmet  341          HR    male        560   1158         1158.0\n",
       "Lale    950          HR  female        480    759          759.0\n",
       "Nazlı   754  Management  female        542    785            NaN"
      ]
     },
     "execution_count": 70,
     "metadata": {},
     "output_type": "execute_result"
    }
   ],
   "source": [
    "employees"
   ]
  },
  {
   "cell_type": "code",
   "execution_count": 80,
   "id": "f5b787ee-4a13-4fb8-8ed4-8066faa9486a",
   "metadata": {},
   "outputs": [],
   "source": [
    "employees.loc[\"Nazlı\", \"Raised Salary\"] = employees.loc[\"Nazlı\", \"Salary\"] + 100"
   ]
  },
  {
   "cell_type": "code",
   "execution_count": 81,
   "id": "1e052c0d-2613-49cb-b7ac-a0822e7a688d",
   "metadata": {},
   "outputs": [
    {
     "data": {
      "text/html": [
       "<div>\n",
       "<style scoped>\n",
       "    .dataframe tbody tr th:only-of-type {\n",
       "        vertical-align: middle;\n",
       "    }\n",
       "\n",
       "    .dataframe tbody tr th {\n",
       "        vertical-align: top;\n",
       "    }\n",
       "\n",
       "    .dataframe thead th {\n",
       "        text-align: right;\n",
       "    }\n",
       "</style>\n",
       "<table border=\"1\" class=\"dataframe\">\n",
       "  <thead>\n",
       "    <tr style=\"text-align: right;\">\n",
       "      <th></th>\n",
       "      <th>ID</th>\n",
       "      <th>Department</th>\n",
       "      <th>Gender</th>\n",
       "      <th>Total Sale</th>\n",
       "      <th>Salary</th>\n",
       "      <th>Raised Salary</th>\n",
       "    </tr>\n",
       "  </thead>\n",
       "  <tbody>\n",
       "    <tr>\n",
       "      <th>Ahmet</th>\n",
       "      <td>313</td>\n",
       "      <td>HR</td>\n",
       "      <td>male</td>\n",
       "      <td>150</td>\n",
       "      <td>835</td>\n",
       "      <td>835.0</td>\n",
       "    </tr>\n",
       "    <tr>\n",
       "      <th>Can</th>\n",
       "      <td>424</td>\n",
       "      <td>IT</td>\n",
       "      <td>male</td>\n",
       "      <td>340</td>\n",
       "      <td>1084</td>\n",
       "      <td>1084.0</td>\n",
       "    </tr>\n",
       "    <tr>\n",
       "      <th>Ayşe</th>\n",
       "      <td>953</td>\n",
       "      <td>IT</td>\n",
       "      <td>female</td>\n",
       "      <td>850</td>\n",
       "      <td>515</td>\n",
       "      <td>515.0</td>\n",
       "    </tr>\n",
       "    <tr>\n",
       "      <th>Mehmet</th>\n",
       "      <td>341</td>\n",
       "      <td>HR</td>\n",
       "      <td>male</td>\n",
       "      <td>560</td>\n",
       "      <td>1158</td>\n",
       "      <td>1158.0</td>\n",
       "    </tr>\n",
       "    <tr>\n",
       "      <th>Lale</th>\n",
       "      <td>950</td>\n",
       "      <td>HR</td>\n",
       "      <td>female</td>\n",
       "      <td>480</td>\n",
       "      <td>759</td>\n",
       "      <td>759.0</td>\n",
       "    </tr>\n",
       "    <tr>\n",
       "      <th>Nazlı</th>\n",
       "      <td>754</td>\n",
       "      <td>Management</td>\n",
       "      <td>female</td>\n",
       "      <td>542</td>\n",
       "      <td>785</td>\n",
       "      <td>885.0</td>\n",
       "    </tr>\n",
       "  </tbody>\n",
       "</table>\n",
       "</div>"
      ],
      "text/plain": [
       "         ID  Department  Gender Total Sale Salary  Raised Salary\n",
       "Ahmet   313          HR    male        150    835          835.0\n",
       "Can     424          IT    male        340   1084         1084.0\n",
       "Ayşe    953          IT  female        850    515          515.0\n",
       "Mehmet  341          HR    male        560   1158         1158.0\n",
       "Lale    950          HR  female        480    759          759.0\n",
       "Nazlı   754  Management  female        542    785          885.0"
      ]
     },
     "execution_count": 81,
     "metadata": {},
     "output_type": "execute_result"
    }
   ],
   "source": [
    "employees"
   ]
  },
  {
   "cell_type": "code",
   "execution_count": 82,
   "id": "7fd7dc6c-e3c1-4d11-be33-18b8ab77271e",
   "metadata": {},
   "outputs": [
    {
     "data": {
      "text/plain": [
       "<Axes: >"
      ]
     },
     "execution_count": 82,
     "metadata": {},
     "output_type": "execute_result"
    },
    {
     "data": {
      "image/png": "[encoded data removed]",
      "text/plain": [
       "<Figure size 640x480 with 1 Axes>"
      ]
     },
     "metadata": {},
     "output_type": "display_data"
    }
   ],
   "source": [
    "employees.plot()"
   ]
  },
  {
   "cell_type": "code",
   "execution_count": null,
   "id": "dd934610-aa68-4f2a-8351-872279c8a6d2",
   "metadata": {},
   "outputs": [],
   "source": []
  }
 ],
 "metadata": {
  "kernelspec": {
   "display_name": "Python 3 (ipykernel)",
   "language": "python",
   "name": "python3"
  },
  "language_info": {
   "codemirror_mode": {
    "name": "ipython",
    "version": 3
   },
   "file_extension": ".py",
   "mimetype": "text/x-python",
   "name": "python",
   "nbconvert_exporter": "python",
   "pygments_lexer": "ipython3",
   "version": "3.12.4"
  }
 },
 "nbformat": 4,
 "nbformat_minor": 5
}
