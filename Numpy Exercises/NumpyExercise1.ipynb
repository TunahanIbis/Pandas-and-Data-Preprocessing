{
 "cells": [
  {
   "cell_type": "code",
   "execution_count": 1,
   "id": "1cdca24b-e772-4f93-81eb-2b0c6a933c63",
   "metadata": {},
   "outputs": [],
   "source": [
    " import numpy as np"
   ]
  },
  {
   "cell_type": "markdown",
   "id": "de4b53e2-ee20-4131-813b-d148a7c45c12",
   "metadata": {},
   "source": [
    "# Arrays"
   ]
  },
  {
   "cell_type": "code",
   "execution_count": 4,
   "id": "31f3504b-d07c-4853-9e77-ddde787e4ac1",
   "metadata": {},
   "outputs": [],
   "source": [
    "arr = np.array([3, \"a\", 85, \"n\", \"nd\"])\n",
    "# A basic array created with a list that contains different data types such as strings and integers"
   ]
  },
  {
   "cell_type": "code",
   "execution_count": 5,
   "id": "8cc85595-9c6b-4362-b7aa-25dfcb561097",
   "metadata": {},
   "outputs": [
    {
     "data": {
      "text/plain": [
       "array(['3', 'a', '85', 'n', 'nd'], dtype='<U11')"
      ]
     },
     "execution_count": 5,
     "metadata": {},
     "output_type": "execute_result"
    }
   ],
   "source": [
    "arr"
   ]
  },
  {
   "cell_type": "code",
   "execution_count": 8,
   "id": "73ef26cd-ed92-4bfc-b929-008746be286a",
   "metadata": {},
   "outputs": [
    {
     "data": {
      "text/plain": [
       "numpy.ndarray"
      ]
     },
     "execution_count": 8,
     "metadata": {},
     "output_type": "execute_result"
    }
   ],
   "source": [
    "type(arr)\n",
    "# Type of our array 'arr'"
   ]
  },
  {
   "cell_type": "code",
   "execution_count": 9,
   "id": "41ac76fc-1244-45ad-b06e-3c2f6d163676",
   "metadata": {},
   "outputs": [],
   "source": [
    "arr2 = np.array([3, 5, 3.9, 7])"
   ]
  },
  {
   "cell_type": "code",
   "execution_count": 11,
   "id": "dc5fec97-c73d-41b2-af7a-1e5fbeec98b7",
   "metadata": {},
   "outputs": [
    {
     "data": {
      "text/plain": [
       "array([3. , 5. , 3.9, 7. ])"
      ]
     },
     "execution_count": 11,
     "metadata": {},
     "output_type": "execute_result"
    }
   ],
   "source": [
    "arr2\n",
    "# All the integers turn into float too because we have a float number in the list"
   ]
  },
  {
   "cell_type": "code",
   "execution_count": 12,
   "id": "e190d1da-8091-44fe-aa99-715bae22341d",
   "metadata": {},
   "outputs": [],
   "source": [
    "arr3 = np.array([3, 5, 3.9, \"md\", \"f\", 7])"
   ]
  },
  {
   "cell_type": "code",
   "execution_count": 14,
   "id": "9f443574-bdae-4970-8096-95d599cf9626",
   "metadata": {},
   "outputs": [
    {
     "data": {
      "text/plain": [
       "array(['3', '5', '3.9', 'md', 'f', '7'], dtype='<U32')"
      ]
     },
     "execution_count": 14,
     "metadata": {},
     "output_type": "execute_result"
    }
   ],
   "source": [
    "arr3\n",
    "# Now all of the data types turned into string form because there is a string added to the list"
   ]
  },
  {
   "cell_type": "code",
   "execution_count": 15,
   "id": "b5f61318-a21c-446d-9923-5286337f9a78",
   "metadata": {},
   "outputs": [],
   "source": [
    "arr4 = np.array([3, 6, 3.4, 7.9, 5], dtype= \"int32\")"
   ]
  },
  {
   "cell_type": "code",
   "execution_count": 17,
   "id": "b816c82a-2121-4297-bbe7-06ef0a1fdb3f",
   "metadata": {},
   "outputs": [
    {
     "data": {
      "text/plain": [
       "array([3, 6, 3, 7, 5])"
      ]
     },
     "execution_count": 17,
     "metadata": {},
     "output_type": "execute_result"
    }
   ],
   "source": [
    "arr4\n",
    "# All the float values turned into integers because we changed the data type"
   ]
  },
  {
   "cell_type": "code",
   "execution_count": 20,
   "id": "9a0f20dc-731a-4483-877b-3539f969bdec",
   "metadata": {},
   "outputs": [],
   "source": [
    "arr5 = np.array([3, 6, 3.4, 7.9, 5], dtype= \"str\")"
   ]
  },
  {
   "cell_type": "code",
   "execution_count": 22,
   "id": "55e2be4a-8c9f-4508-8dce-f6a287a26e4c",
   "metadata": {},
   "outputs": [
    {
     "data": {
      "text/plain": [
       "array(['3', '6', '3.4', '7.9', '5'], dtype='<U3')"
      ]
     },
     "execution_count": 22,
     "metadata": {},
     "output_type": "execute_result"
    }
   ],
   "source": [
    "arr5\n",
    "# Now they are all in string form"
   ]
  },
  {
   "cell_type": "code",
   "execution_count": 24,
   "id": "a1890566-d42e-4b1c-9e72-559c488e3e4d",
   "metadata": {},
   "outputs": [
    {
     "ename": "ValueError",
     "evalue": "invalid literal for int() with base 10: 'a'",
     "output_type": "error",
     "traceback": [
      "\u001b[1;31m---------------------------------------------------------------------------\u001b[0m",
      "\u001b[1;31mValueError\u001b[0m                                Traceback (most recent call last)",
      "Cell \u001b[1;32mIn[24], line 1\u001b[0m\n\u001b[1;32m----> 1\u001b[0m arr6 \u001b[38;5;241m=\u001b[39m \u001b[43mnp\u001b[49m\u001b[38;5;241;43m.\u001b[39;49m\u001b[43marray\u001b[49m\u001b[43m(\u001b[49m\u001b[43m[\u001b[49m\u001b[38;5;124;43m\"\u001b[39;49m\u001b[38;5;124;43ma\u001b[39;49m\u001b[38;5;124;43m\"\u001b[39;49m\u001b[43m,\u001b[49m\u001b[43m \u001b[49m\u001b[38;5;241;43m6\u001b[39;49m\u001b[43m,\u001b[49m\u001b[43m \u001b[49m\u001b[38;5;124;43m\"\u001b[39;49m\u001b[38;5;124;43mnı\u001b[39;49m\u001b[38;5;124;43m\"\u001b[39;49m\u001b[43m,\u001b[49m\u001b[43m \u001b[49m\u001b[38;5;241;43m7.9\u001b[39;49m\u001b[43m,\u001b[49m\u001b[43m \u001b[49m\u001b[38;5;241;43m5\u001b[39;49m\u001b[43m]\u001b[49m\u001b[43m,\u001b[49m\u001b[43m \u001b[49m\u001b[43mdtype\u001b[49m\u001b[38;5;241;43m=\u001b[39;49m\u001b[43m \u001b[49m\u001b[38;5;124;43m\"\u001b[39;49m\u001b[38;5;124;43mint32\u001b[39;49m\u001b[38;5;124;43m\"\u001b[39;49m\u001b[43m)\u001b[49m\n\u001b[0;32m      2\u001b[0m \u001b[38;5;66;03m# But unfortunately we can't turn string to integer\u001b[39;00m\n",
      "\u001b[1;31mValueError\u001b[0m: invalid literal for int() with base 10: 'a'"
     ]
    }
   ],
   "source": [
    "arr6 = np.array([\"a\", 6, \"nı\", 7.9, 5], dtype= \"int32\")\n",
    "# But unfortunately we can't turn string to an integer"
   ]
  },
  {
   "cell_type": "markdown",
   "id": "b8d95c96-3b98-43a6-aea4-0772f877ad2f",
   "metadata": {},
   "source": [
    "## Zero Arrays (zero() function)"
   ]
  },
  {
   "cell_type": "code",
   "execution_count": 25,
   "id": "044542cc-02e3-4e19-8ac5-f2236e8a5fdd",
   "metadata": {},
   "outputs": [
    {
     "data": {
      "text/plain": [
       "array([0., 0., 0., 0., 0., 0., 0., 0., 0., 0.])"
      ]
     },
     "execution_count": 25,
     "metadata": {},
     "output_type": "execute_result"
    }
   ],
   "source": [
    "np.zeros(10)"
   ]
  },
  {
   "cell_type": "code",
   "execution_count": 28,
   "id": "5041605f-7fdb-4442-91f8-7ff1a9c4de2f",
   "metadata": {},
   "outputs": [
    {
     "data": {
      "text/plain": [
       "array(['', '', '', '', '', '', '', '', '', ''], dtype='<U1')"
      ]
     },
     "execution_count": 28,
     "metadata": {},
     "output_type": "execute_result"
    }
   ],
   "source": [
    "np.zeros(10, dtype= \"str\")\n",
    "# Creates ten empty strings"
   ]
  },
  {
   "cell_type": "code",
   "execution_count": 31,
   "id": "b6157a92-055b-4427-addf-49556a29746e",
   "metadata": {},
   "outputs": [
    {
     "data": {
      "text/plain": [
       "array([0, 0, 0, 0, 0, 0, 0, 0, 0, 0])"
      ]
     },
     "execution_count": 31,
     "metadata": {},
     "output_type": "execute_result"
    }
   ],
   "source": [
    "np.zeros(10, dtype= \"int32\")\n",
    "# Creates ten empty strings"
   ]
  },
  {
   "cell_type": "code",
   "execution_count": 29,
   "id": "f03bf3a7-68af-4875-9804-ed042defe8e4",
   "metadata": {},
   "outputs": [
    {
     "data": {
      "text/plain": [
       "array([[0., 0., 0., 0., 0.],\n",
       "       [0., 0., 0., 0., 0.],\n",
       "       [0., 0., 0., 0., 0.],\n",
       "       [0., 0., 0., 0., 0.],\n",
       "       [0., 0., 0., 0., 0.]])"
      ]
     },
     "execution_count": 29,
     "metadata": {},
     "output_type": "execute_result"
    }
   ],
   "source": [
    "np.zeros([5,5])"
   ]
  },
  {
   "cell_type": "code",
   "execution_count": 32,
   "id": "a0b2368b-dd6b-4b50-88f6-aa4f7dfff614",
   "metadata": {},
   "outputs": [
    {
     "data": {
      "text/plain": [
       "array([[[0, 0, 0, 0, 0],\n",
       "        [0, 0, 0, 0, 0],\n",
       "        [0, 0, 0, 0, 0],\n",
       "        [0, 0, 0, 0, 0],\n",
       "        [0, 0, 0, 0, 0]],\n",
       "\n",
       "       [[0, 0, 0, 0, 0],\n",
       "        [0, 0, 0, 0, 0],\n",
       "        [0, 0, 0, 0, 0],\n",
       "        [0, 0, 0, 0, 0],\n",
       "        [0, 0, 0, 0, 0]]])"
      ]
     },
     "execution_count": 32,
     "metadata": {},
     "output_type": "execute_result"
    }
   ],
   "source": [
    "np.zeros([2,5,5], dtype=\"int32\")"
   ]
  },
  {
   "cell_type": "markdown",
   "id": "71cec991-f544-404a-9a59-d18ae3f7acaa",
   "metadata": {},
   "source": [
    "## full() Function"
   ]
  },
  {
   "cell_type": "code",
   "execution_count": 37,
   "id": "86816b7c-9980-4e7f-8265-7c696a2acdca",
   "metadata": {},
   "outputs": [
    {
     "data": {
      "text/plain": [
       "array([5, 5])"
      ]
     },
     "execution_count": 37,
     "metadata": {},
     "output_type": "execute_result"
    }
   ],
   "source": [
    "np.full(2,5)"
   ]
  },
  {
   "cell_type": "code",
   "execution_count": 36,
   "id": "b362be8b-a9f6-4943-bb0d-6341ce7e2b50",
   "metadata": {},
   "outputs": [
    {
     "data": {
      "text/plain": [
       "array([[3, 3, 3, 3, 3],\n",
       "       [3, 3, 3, 3, 3]])"
      ]
     },
     "execution_count": 36,
     "metadata": {},
     "output_type": "execute_result"
    }
   ],
   "source": [
    "np.full((2,5), 3)"
   ]
  },
  {
   "cell_type": "code",
   "execution_count": 38,
   "id": "000016ae-032f-454e-b13d-b7685d5283f0",
   "metadata": {},
   "outputs": [
    {
     "data": {
      "text/plain": [
       "array([['3', '3', '3', '3', '3'],\n",
       "       ['3', '3', '3', '3', '3']], dtype='<U1')"
      ]
     },
     "execution_count": 38,
     "metadata": {},
     "output_type": "execute_result"
    }
   ],
   "source": [
    "np.full((2,5), 3, dtype=\"str\")"
   ]
  },
  {
   "cell_type": "code",
   "execution_count": 39,
   "id": "400de6f7-b1e6-4573-af52-40b41d28feb7",
   "metadata": {},
   "outputs": [
    {
     "data": {
      "text/plain": [
       "array([['3', '3', '3', '3', '3'],\n",
       "       ['3', '3', '3', '3', '3']], dtype='<U1')"
      ]
     },
     "execution_count": 39,
     "metadata": {},
     "output_type": "execute_result"
    }
   ],
   "source": [
    "np.full((2,5), \"3\", dtype=\"str\")"
   ]
  },
  {
   "cell_type": "markdown",
   "id": "a463b4b4-4dcd-4d4c-bc21-04feac62f2fa",
   "metadata": {},
   "source": [
    "## Consecutive Numbers (arange() Function)"
   ]
  },
  {
   "cell_type": "code",
   "execution_count": 41,
   "id": "2e2072a5-5f02-45ad-9941-e0dde9718163",
   "metadata": {},
   "outputs": [
    {
     "data": {
      "text/plain": [
       "array([2, 3, 4, 5])"
      ]
     },
     "execution_count": 41,
     "metadata": {},
     "output_type": "execute_result"
    }
   ],
   "source": [
    "np.arange(2,6)"
   ]
  },
  {
   "cell_type": "code",
   "execution_count": 42,
   "id": "8f393032-267e-4879-9f09-760ac828f1c5",
   "metadata": {},
   "outputs": [
    {
     "data": {
      "text/plain": [
       "array([2, 4])"
      ]
     },
     "execution_count": 42,
     "metadata": {},
     "output_type": "execute_result"
    }
   ],
   "source": [
    "np.arange(2,6,2)"
   ]
  },
  {
   "cell_type": "code",
   "execution_count": 45,
   "id": "957d6002-657a-499a-a8eb-6a184f241027",
   "metadata": {},
   "outputs": [
    {
     "data": {
      "text/plain": [
       "array([], dtype=int32)"
      ]
     },
     "execution_count": 45,
     "metadata": {},
     "output_type": "execute_result"
    }
   ],
   "source": [
    "np.arange(2,6,-2)\n",
    "# Doesn't print anything because the start point of list is already smaller than end point"
   ]
  },
  {
   "cell_type": "code",
   "execution_count": 46,
   "id": "7bae24a2-b261-4662-9e3d-47d12af3407c",
   "metadata": {},
   "outputs": [
    {
     "data": {
      "text/plain": [
       "array([6, 4])"
      ]
     },
     "execution_count": 46,
     "metadata": {},
     "output_type": "execute_result"
    }
   ],
   "source": [
    "np.arange(6,2,-2)"
   ]
  },
  {
   "cell_type": "markdown",
   "id": "21155bb3-d3b5-42db-a2c3-ec206ba2d134",
   "metadata": {},
   "source": [
    "## Spacing (linspace() Function)"
   ]
  },
  {
   "cell_type": "code",
   "execution_count": 66,
   "id": "27708439-1a61-41c2-a02b-b549fe3e309a",
   "metadata": {},
   "outputs": [
    {
     "data": {
      "text/plain": [
       "array([3. , 4.5, 6. ])"
      ]
     },
     "execution_count": 66,
     "metadata": {},
     "output_type": "execute_result"
    }
   ],
   "source": [
    "np.linspace(3,6,3)\n",
    "# Creates middle points between 3 and 6 in float type"
   ]
  },
  {
   "cell_type": "code",
   "execution_count": 67,
   "id": "4c086015-3e1e-4b94-b7c9-2f4963ef321a",
   "metadata": {},
   "outputs": [
    {
     "data": {
      "text/plain": [
       "array([3.        , 3.33333333, 3.66666667])"
      ]
     },
     "execution_count": 67,
     "metadata": {},
     "output_type": "execute_result"
    }
   ],
   "source": [
    "np.linspace(3,4,3, endpoint=False)\n",
    "#Doesn't include the endpoint"
   ]
  },
  {
   "cell_type": "code",
   "execution_count": 68,
   "id": "f352e145-4120-4a49-82b9-122446f8f9cc",
   "metadata": {},
   "outputs": [
    {
     "data": {
      "text/plain": [
       "array([3.2, 3.8, 4.4])"
      ]
     },
     "execution_count": 68,
     "metadata": {},
     "output_type": "execute_result"
    }
   ],
   "source": [
    "np.linspace(3.2, 4.4, 3)\n",
    "# Works for float datas too"
   ]
  },
  {
   "cell_type": "markdown",
   "id": "a62eda82-63de-4ebf-b592-2920c5dbdd5a",
   "metadata": {},
   "source": [
    "## Normal Distribution"
   ]
  },
  {
   "cell_type": "code",
   "execution_count": 71,
   "id": "0ebde175-9254-4a38-871f-e50388bba7b1",
   "metadata": {},
   "outputs": [
    {
     "data": {
      "text/plain": [
       "array([[-3.45414411,  1.38409024, -3.51203705, -3.51413392,  1.10412924],\n",
       "       [-1.24270413,  2.537997  , -0.27558317, -3.50107198, -1.10457978],\n",
       "       [-0.95404842,  5.28464745, -0.95862866,  8.73162184, -2.29705844],\n",
       "       [ 0.43340347, -1.98950918,  3.26959406,  4.71961799,  2.4361533 ]])"
      ]
     },
     "execution_count": 71,
     "metadata": {},
     "output_type": "execute_result"
    }
   ],
   "source": [
    "np.random.normal(0, 3, (4,5))\n",
    "# (mean, std, array size)"
   ]
  },
  {
   "cell_type": "code",
   "execution_count": 72,
   "id": "db9c2679-7feb-4c4d-9e2d-a1a7fd2d8091",
   "metadata": {},
   "outputs": [
    {
     "data": {
      "text/plain": [
       "array([[ 9.19166537,  8.8698226 ,  7.91132544,  8.58087311, 10.87081791],\n",
       "       [10.02395497,  9.26069823, 11.53142247,  7.07555794,  9.86421511],\n",
       "       [11.79812528, 11.38664158,  9.7799666 ,  9.7106613 ,  9.2936777 ],\n",
       "       [11.70871977, 10.91674113, 10.21915406, 10.24009876, 10.9431344 ]])"
      ]
     },
     "execution_count": 72,
     "metadata": {},
     "output_type": "execute_result"
    }
   ],
   "source": [
    "np.random.normal(10, 1, (4,5))"
   ]
  },
  {
   "cell_type": "markdown",
   "id": "c29512d9-c3d3-4cff-9993-baac7e52bb93",
   "metadata": {},
   "source": [
    "## Creating Arrays With Random Integers"
   ]
  },
  {
   "cell_type": "code",
   "execution_count": 86,
   "id": "3e64bcf0-c892-486c-a0db-ed458d27991f",
   "metadata": {},
   "outputs": [
    {
     "data": {
      "text/plain": [
       "9"
      ]
     },
     "execution_count": 86,
     "metadata": {},
     "output_type": "execute_result"
    }
   ],
   "source": [
    "np.random.randint(1, 10)\n",
    "# Get a random value between 1 and 10"
   ]
  },
  {
   "cell_type": "code",
   "execution_count": 87,
   "id": "b8c97406-f329-4e2c-a5ea-359562d019f5",
   "metadata": {},
   "outputs": [
    {
     "data": {
      "text/plain": [
       "array([[1, 3, 3, 7, 9],\n",
       "       [5, 9, 7, 4, 9],\n",
       "       [9, 6, 5, 1, 9],\n",
       "       [4, 2, 8, 2, 5]])"
      ]
     },
     "execution_count": 87,
     "metadata": {},
     "output_type": "execute_result"
    }
   ],
   "source": [
    "np.random.randint(1, 10, (4,5))\n",
    "# Create a 4,5 matrix with random values between 1 and 10"
   ]
  },
  {
   "cell_type": "code",
   "execution_count": 88,
   "id": "b2f1efdd-6c6e-4994-a1e4-a12b35784170",
   "metadata": {},
   "outputs": [
    {
     "data": {
      "text/plain": [
       "array([[[6, 9, 6, 9, 3],\n",
       "        [1, 8, 8, 8, 2],\n",
       "        [4, 8, 6, 7, 8],\n",
       "        [4, 2, 1, 4, 9]],\n",
       "\n",
       "       [[7, 5, 1, 7, 7],\n",
       "        [8, 4, 3, 8, 5],\n",
       "        [4, 9, 9, 9, 4],\n",
       "        [4, 7, 4, 4, 5]],\n",
       "\n",
       "       [[3, 1, 4, 2, 1],\n",
       "        [5, 8, 3, 5, 1],\n",
       "        [4, 7, 5, 3, 4],\n",
       "        [3, 5, 7, 3, 9]]])"
      ]
     },
     "execution_count": 88,
     "metadata": {},
     "output_type": "execute_result"
    }
   ],
   "source": [
    "np.random.randint(1, 10, (3,4,5))\n",
    "# Create 3 of this"
   ]
  },
  {
   "cell_type": "code",
   "execution_count": 89,
   "id": "67c93e14-879a-4433-8391-f2b634fc2b70",
   "metadata": {},
   "outputs": [],
   "source": [
    "d= {}\n",
    "\n",
    "for _ in range(1000):\n",
    "    val= np.random.randint(1,11)\n",
    "\n",
    "    if val not in d:\n",
    "        d[val] = 1\n",
    "    else:\n",
    "        d[val] += 1"
   ]
  },
  {
   "cell_type": "code",
   "execution_count": 92,
   "id": "cdbf8617-e025-49b2-be38-16fd3ab2dfc0",
   "metadata": {},
   "outputs": [
    {
     "data": {
      "text/plain": [
       "{2: 101, 6: 105, 5: 109, 3: 108, 9: 89, 10: 97, 4: 97, 7: 90, 8: 107, 1: 97}"
      ]
     },
     "execution_count": 92,
     "metadata": {},
     "output_type": "execute_result"
    }
   ],
   "source": [
    "d # Generate random values between 1 and 11 (not included) and observe how many times we get the number "
   ]
  },
  {
   "cell_type": "markdown",
   "id": "347af393-6730-4255-ab50-65a13d85e44e",
   "metadata": {},
   "source": [
    "## Identity Matrix (eye() Function)"
   ]
  },
  {
   "cell_type": "code",
   "execution_count": 96,
   "id": "e753d7c6-f004-45b2-9fea-a7b0bf6c2450",
   "metadata": {},
   "outputs": [
    {
     "data": {
      "text/plain": [
       "array([[1., 0., 0., 0., 0.],\n",
       "       [0., 1., 0., 0., 0.],\n",
       "       [0., 0., 1., 0., 0.],\n",
       "       [0., 0., 0., 1., 0.]])"
      ]
     },
     "execution_count": 96,
     "metadata": {},
     "output_type": "execute_result"
    }
   ],
   "source": [
    "np.eye(4,5)\n",
    "# Creates a 4 row and 5 column matrix and fills it with 1's in diagonal direction"
   ]
  },
  {
   "cell_type": "code",
   "execution_count": 103,
   "id": "de6ff11c-629c-4afb-89c5-011d15374268",
   "metadata": {},
   "outputs": [
    {
     "data": {
      "text/plain": [
       "array([[1., 0., 0., 0., 0., 0.],\n",
       "       [0., 1., 0., 0., 0., 0.],\n",
       "       [0., 0., 1., 0., 0., 0.],\n",
       "       [0., 0., 0., 1., 0., 0.],\n",
       "       [0., 0., 0., 0., 1., 0.],\n",
       "       [0., 0., 0., 0., 0., 1.]])"
      ]
     },
     "execution_count": 103,
     "metadata": {},
     "output_type": "execute_result"
    }
   ],
   "source": [
    "np.eye(6,6)"
   ]
  },
  {
   "cell_type": "markdown",
   "id": "596b7649-1871-4914-82e1-091e921ef986",
   "metadata": {},
   "source": [
    "## Array Operations"
   ]
  },
  {
   "cell_type": "code",
   "execution_count": 104,
   "id": "1a4bd5e8-8afe-4ae8-ab46-bfb5c4d3cea8",
   "metadata": {},
   "outputs": [],
   "source": [
    "x= [2,5,8,6]\n",
    "y= [5,1,4,3]"
   ]
  },
  {
   "cell_type": "code",
   "execution_count": 109,
   "id": "119b7231-105b-4d3f-9712-96a8619163b1",
   "metadata": {},
   "outputs": [
    {
     "data": {
      "text/plain": [
       "[5, 1, 4, 3, 5, 1, 4, 3, 5, 1, 4, 3]"
      ]
     },
     "execution_count": 109,
     "metadata": {},
     "output_type": "execute_result"
    }
   ],
   "source": [
    "y * 3\n",
    "# Prints y list 3 times in the same container"
   ]
  },
  {
   "cell_type": "code",
   "execution_count": 112,
   "id": "fcd0e5c1-ba52-47c8-9741-d672f01a2240",
   "metadata": {},
   "outputs": [
    {
     "data": {
      "text/plain": [
       "[5, 1, 4, 3, 5, 1, 4, 3, 5, 1, 4, 3]"
      ]
     },
     "execution_count": 112,
     "metadata": {},
     "output_type": "execute_result"
    }
   ],
   "source": [
    "y + y + y\n",
    "# Same operation like the multiplication"
   ]
  },
  {
   "cell_type": "code",
   "execution_count": 117,
   "id": "f36cc65e-51b1-49ec-b8db-cf572ad6ddfe",
   "metadata": {},
   "outputs": [
    {
     "data": {
      "text/plain": [
       "array([15,  2, 63])"
      ]
     },
     "execution_count": 117,
     "metadata": {},
     "output_type": "execute_result"
    }
   ],
   "source": [
    "a = np.array([5,2,7])\n",
    "b= np.array([3,1,9])\n",
    "\n",
    "a * b\n",
    "# Multiply the values in the same index (maximum index should be the same)\n",
    "#(5*3, 2*1, 7*9)"
   ]
  },
  {
   "cell_type": "code",
   "execution_count": 119,
   "id": "697697a3-f0e8-464c-a7c6-66c7997dcd49",
   "metadata": {},
   "outputs": [
    {
     "data": {
      "text/plain": [
       "array([ 8,  3, 16])"
      ]
     },
     "execution_count": 119,
     "metadata": {},
     "output_type": "execute_result"
    }
   ],
   "source": [
    "a + b\n",
    "# Sums the same indeced values"
   ]
  },
  {
   "cell_type": "code",
   "execution_count": 120,
   "id": "fa526029-aa1e-4ee2-84a4-3aec7801e28d",
   "metadata": {},
   "outputs": [],
   "source": [
    "c = [3, 5, 8]\n",
    "d = [2, 1, 5]"
   ]
  },
  {
   "cell_type": "code",
   "execution_count": 122,
   "id": "26600bc0-63aa-4df1-8011-bd1d6e75ea48",
   "metadata": {},
   "outputs": [
    {
     "data": {
      "text/plain": [
       "[3, 5, 8, 2, 1, 5]"
      ]
     },
     "execution_count": 122,
     "metadata": {},
     "output_type": "execute_result"
    }
   ],
   "source": [
    "c + d\n",
    "# Does concatenation to the list ones (not arrays)"
   ]
  },
  {
   "cell_type": "code",
   "execution_count": 127,
   "id": "e3f5dd52-90eb-4b54-97ab-abafeb2d5cf4",
   "metadata": {},
   "outputs": [],
   "source": [
    "b = b * 2 # Update the values"
   ]
  },
  {
   "cell_type": "code",
   "execution_count": 128,
   "id": "09052a7f-4b2f-484f-b24e-2dfcbfd9a27b",
   "metadata": {},
   "outputs": [
    {
     "data": {
      "text/plain": [
       "array([24,  8, 72])"
      ]
     },
     "execution_count": 128,
     "metadata": {},
     "output_type": "execute_result"
    }
   ],
   "source": [
    "b  "
   ]
  },
  {
   "cell_type": "markdown",
   "id": "bbfa8b31-be91-41c6-9541-e0e01c49deb4",
   "metadata": {},
   "source": [
    "## Array Attributes"
   ]
  },
  {
   "cell_type": "code",
   "execution_count": 133,
   "id": "68dc9728-8f69-4a03-a722-147043e91e35",
   "metadata": {},
   "outputs": [
    {
     "name": "stdout",
     "output_type": "stream",
     "text": [
      "[[0. 0. 0. 0.]\n",
      " [0. 0. 0. 0.]\n",
      " [0. 0. 0. 0.]]\n"
     ]
    }
   ],
   "source": [
    "k = np.zeros((3,4))\n",
    "\n",
    "print(k)"
   ]
  },
  {
   "cell_type": "code",
   "execution_count": 134,
   "id": "32f0bc3c-2af6-473d-80f7-bfbd561efef0",
   "metadata": {},
   "outputs": [
    {
     "data": {
      "text/plain": [
       "(3, 4)"
      ]
     },
     "execution_count": 134,
     "metadata": {},
     "output_type": "execute_result"
    }
   ],
   "source": [
    "k.shape"
   ]
  },
  {
   "cell_type": "code",
   "execution_count": 136,
   "id": "992fe863-5bf3-4a9e-98da-795d2d40afbf",
   "metadata": {},
   "outputs": [
    {
     "name": "stdout",
     "output_type": "stream",
     "text": [
      "[[[0. 0. 0. 0.]\n",
      "  [0. 0. 0. 0.]\n",
      "  [0. 0. 0. 0.]]\n",
      "\n",
      " [[0. 0. 0. 0.]\n",
      "  [0. 0. 0. 0.]\n",
      "  [0. 0. 0. 0.]]]\n"
     ]
    }
   ],
   "source": [
    "l = np.zeros((2,3,4))\n",
    "\n",
    "print(l)"
   ]
  },
  {
   "cell_type": "code",
   "execution_count": 137,
   "id": "9d52eae9-e0db-4f6c-9ac6-fedc85ba6785",
   "metadata": {},
   "outputs": [
    {
     "data": {
      "text/plain": [
       "(2, 3, 4)"
      ]
     },
     "execution_count": 137,
     "metadata": {},
     "output_type": "execute_result"
    }
   ],
   "source": [
    "l.shape"
   ]
  },
  {
   "cell_type": "code",
   "execution_count": 141,
   "id": "b51c989e-8fb7-455d-86c5-581fb4f2f7f7",
   "metadata": {},
   "outputs": [
    {
     "data": {
      "text/plain": [
       "3"
      ]
     },
     "execution_count": 141,
     "metadata": {},
     "output_type": "execute_result"
    }
   ],
   "source": [
    "l.ndim\n",
    "# Print how many dimension the array has"
   ]
  },
  {
   "cell_type": "code",
   "execution_count": 142,
   "id": "dab87bfd-3b8f-45bd-b42c-9be00ac4fd8d",
   "metadata": {},
   "outputs": [
    {
     "data": {
      "text/plain": [
       "2"
      ]
     },
     "execution_count": 142,
     "metadata": {},
     "output_type": "execute_result"
    }
   ],
   "source": [
    "k.ndim"
   ]
  },
  {
   "cell_type": "code",
   "execution_count": 144,
   "id": "55d81b58-8082-4eb1-a295-9243fb333e56",
   "metadata": {},
   "outputs": [
    {
     "data": {
      "text/plain": [
       "12"
      ]
     },
     "execution_count": 144,
     "metadata": {},
     "output_type": "execute_result"
    }
   ],
   "source": [
    "k.size\n",
    "# row * column"
   ]
  },
  {
   "cell_type": "code",
   "execution_count": 145,
   "id": "6f72fc23-0742-4b8a-a021-b461a5498c7d",
   "metadata": {},
   "outputs": [
    {
     "data": {
      "text/plain": [
       "dtype('float64')"
      ]
     },
     "execution_count": 145,
     "metadata": {},
     "output_type": "execute_result"
    }
   ],
   "source": [
    "k.dtype"
   ]
  },
  {
   "cell_type": "markdown",
   "id": "342ad5fb-50f5-4f97-8a8f-3dcf13883793",
   "metadata": {},
   "source": [
    "## Reshaping"
   ]
  },
  {
   "cell_type": "code",
   "execution_count": 150,
   "id": "8dab49a4-2708-452a-9c1f-bfbfe62dfb08",
   "metadata": {},
   "outputs": [
    {
     "name": "stdout",
     "output_type": "stream",
     "text": [
      "[2 3 4 5 6 7]\n"
     ]
    }
   ],
   "source": [
    "m = np.arange(2,8)\n",
    "\n",
    "print(m)"
   ]
  },
  {
   "cell_type": "code",
   "execution_count": 156,
   "id": "b47675bd-035e-4fca-9a42-f57a1537ec10",
   "metadata": {},
   "outputs": [
    {
     "data": {
      "text/plain": [
       "1"
      ]
     },
     "execution_count": 156,
     "metadata": {},
     "output_type": "execute_result"
    }
   ],
   "source": [
    "m.ndim"
   ]
  },
  {
   "cell_type": "code",
   "execution_count": 157,
   "id": "12187737-6c55-43ec-a318-ec4347addee7",
   "metadata": {},
   "outputs": [
    {
     "data": {
      "text/plain": [
       "array([[2, 3, 4],\n",
       "       [5, 6, 7]])"
      ]
     },
     "execution_count": 157,
     "metadata": {},
     "output_type": "execute_result"
    }
   ],
   "source": [
    "m.reshape(2,3)\n",
    "# Reshape the array into 2 rows by 3 index for each"
   ]
  },
  {
   "cell_type": "code",
   "execution_count": 159,
   "id": "d454ae95-0180-4105-85af-432e4ec4c830",
   "metadata": {},
   "outputs": [
    {
     "data": {
      "text/plain": [
       "2"
      ]
     },
     "execution_count": 159,
     "metadata": {},
     "output_type": "execute_result"
    }
   ],
   "source": [
    "m.reshape(2,3).ndim\n",
    "# Observe the new dimension quantity"
   ]
  },
  {
   "cell_type": "code",
   "execution_count": 163,
   "id": "14df23b7-7e0c-4840-9f9c-482bc644fbdc",
   "metadata": {},
   "outputs": [
    {
     "data": {
      "text/plain": [
       "array([[2, 3],\n",
       "       [4, 5],\n",
       "       [6, 7]])"
      ]
     },
     "execution_count": 163,
     "metadata": {},
     "output_type": "execute_result"
    }
   ],
   "source": [
    "m.reshape(-1, 2)\n",
    "# make the row number 'size / 2'"
   ]
  },
  {
   "cell_type": "code",
   "execution_count": 164,
   "id": "f2a4beac-6785-424a-aab6-3ebcebcfaab9",
   "metadata": {},
   "outputs": [
    {
     "data": {
      "text/plain": [
       "array([[2, 3, 4],\n",
       "       [5, 6, 7]])"
      ]
     },
     "execution_count": 164,
     "metadata": {},
     "output_type": "execute_result"
    }
   ],
   "source": [
    "m.reshape(-1, 3)\n",
    "# make the row number 'size / 3'"
   ]
  },
  {
   "cell_type": "code",
   "execution_count": 168,
   "id": "7069a25b-4235-432e-8329-137e8d592a62",
   "metadata": {},
   "outputs": [
    {
     "data": {
      "text/plain": [
       "array([[2, 3, 4, 5, 6, 7]])"
      ]
     },
     "execution_count": 168,
     "metadata": {},
     "output_type": "execute_result"
    }
   ],
   "source": [
    "m[np.newaxis, :]\n",
    "# Added columns for every index and made it a 1 row matrix"
   ]
  },
  {
   "cell_type": "code",
   "execution_count": 172,
   "id": "f8cdb302-099c-4616-abf1-39eb389bdb68",
   "metadata": {},
   "outputs": [
    {
     "data": {
      "text/plain": [
       "array([[2],\n",
       "       [3],\n",
       "       [4],\n",
       "       [5],\n",
       "       [6],\n",
       "       [7]])"
      ]
     },
     "execution_count": 172,
     "metadata": {},
     "output_type": "execute_result"
    }
   ],
   "source": [
    "m[:, np.newaxis]\n",
    "# Row number is increased now and there is just 1 column"
   ]
  },
  {
   "cell_type": "markdown",
   "id": "58847273-0782-4bbf-a8ca-5b47783d0ea4",
   "metadata": {},
   "source": [
    "Here are the same results with \"None\" instead of \":\""
   ]
  },
  {
   "cell_type": "code",
   "execution_count": 175,
   "id": "5bcebe57-589a-445f-a292-e7a5829eed55",
   "metadata": {},
   "outputs": [
    {
     "data": {
      "text/plain": [
       "array([[[2, 3, 4, 5, 6, 7]]])"
      ]
     },
     "execution_count": 175,
     "metadata": {},
     "output_type": "execute_result"
    }
   ],
   "source": [
    "m[np.newaxis, None]"
   ]
  },
  {
   "cell_type": "code",
   "execution_count": 176,
   "id": "9cb08680-5d1c-48b4-8b2c-78979892d2dd",
   "metadata": {},
   "outputs": [
    {
     "data": {
      "text/plain": [
       "array([[[2, 3, 4, 5, 6, 7]]])"
      ]
     },
     "execution_count": 176,
     "metadata": {},
     "output_type": "execute_result"
    }
   ],
   "source": [
    "m[None, np.newaxis]"
   ]
  }
 ],
 "metadata": {
  "kernelspec": {
   "display_name": "Python 3 (ipykernel)",
   "language": "python",
   "name": "python3"
  },
  "language_info": {
   "codemirror_mode": {
    "name": "ipython",
    "version": 3
   },
   "file_extension": ".py",
   "mimetype": "text/x-python",
   "name": "python",
   "nbconvert_exporter": "python",
   "pygments_lexer": "ipython3",
   "version": "3.12.4"
  }
 },
 "nbformat": 4,
 "nbformat_minor": 5
}
